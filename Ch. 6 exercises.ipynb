{
 "cells": [
  {
   "cell_type": "markdown",
   "id": "c1c91f59",
   "metadata": {},
   "source": [
    "# Ch. 6 Exercises"
   ]
  },
  {
   "cell_type": "markdown",
   "id": "9a8a5b76",
   "metadata": {},
   "source": [
    "## Algorithm Workbench"
   ]
  },
  {
   "cell_type": "markdown",
   "id": "05908dc5",
   "metadata": {},
   "source": [
    "### Number 1"
   ]
  },
  {
   "cell_type": "markdown",
   "id": "7abc0e4e",
   "metadata": {},
   "source": [
    "This question asks us to write a program that opens an output file with the filename my_name.txt, writes your name to the file, then closes the file"
   ]
  },
  {
   "cell_type": "code",
   "execution_count": null,
   "id": "42a0e869",
   "metadata": {},
   "outputs": [],
   "source": [
    "name = Lilly \n",
    "filename = \"my_name.txt\"\n",
    "\n",
    "file = open(filename, \"r\")\n"
   ]
  }
 ],
 "metadata": {
  "kernelspec": {
   "display_name": "Python 3 (ipykernel)",
   "language": "python",
   "name": "python3"
  },
  "language_info": {
   "codemirror_mode": {
    "name": "ipython",
    "version": 3
   },
   "file_extension": ".py",
   "mimetype": "text/x-python",
   "name": "python",
   "nbconvert_exporter": "python",
   "pygments_lexer": "ipython3",
   "version": "3.10.9"
  }
 },
 "nbformat": 4,
 "nbformat_minor": 5
}
