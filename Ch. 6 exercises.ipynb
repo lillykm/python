{
 "cells": [
  {
   "cell_type": "markdown",
   "id": "a00b0144",
   "metadata": {},
   "source": [
    "# Ch. 6 Exercises"
   ]
  },
  {
   "cell_type": "markdown",
   "id": "e9b6d693",
   "metadata": {},
   "source": [
    "## Algorithm Workbench"
   ]
  },
  {
   "cell_type": "markdown",
   "id": "30a98733",
   "metadata": {},
   "source": [
    "### Number 1"
   ]
  },
  {
   "cell_type": "markdown",
   "id": "eab9ba24",
   "metadata": {},
   "source": [
    "This question asks us to write a program that opens an output file with the filename my_name.txt, writes your name to the file, then closes the file"
   ]
  },
  {
   "cell_type": "code",
   "execution_count": 7,
   "id": "f94608c8",
   "metadata": {},
   "outputs": [
    {
     "ename": "NameError",
     "evalue": "name 'Lilly' is not defined",
     "output_type": "error",
     "traceback": [
      "\u001b[0;31m---------------------------------------------------------------------------\u001b[0m",
      "\u001b[0;31mNameError\u001b[0m                                 Traceback (most recent call last)",
      "Cell \u001b[0;32mIn[7], line 1\u001b[0m\n\u001b[0;32m----> 1\u001b[0m name \u001b[38;5;241m=\u001b[39m \u001b[43mLilly\u001b[49m \n\u001b[1;32m      2\u001b[0m filename \u001b[38;5;241m=\u001b[39m \u001b[38;5;124m\"\u001b[39m\u001b[38;5;124mmy_name.txt\u001b[39m\u001b[38;5;124m\"\u001b[39m\n\u001b[1;32m      4\u001b[0m file \u001b[38;5;241m=\u001b[39m \u001b[38;5;28mopen\u001b[39m(filename, \u001b[38;5;124m\"\u001b[39m\u001b[38;5;124mw\u001b[39m\u001b[38;5;124m\"\u001b[39m)\n",
      "\u001b[0;31mNameError\u001b[0m: name 'Lilly' is not defined"
     ]
    }
   ],
   "source": [
    "name = ('') \n",
    "filename = \"my_name.txt\"\n",
    "\n",
    "file = open(filename, \"w\")\n",
    "\n",
    "file.write(name)\n",
    "\n",
    "file.close()\n",
    "\n",
    "print(\"Name written to\", filename)\n"
   ]
  },
  {
   "cell_type": "code",
   "execution_count": 8,
   "id": "0bff5d5d",
   "metadata": {},
   "outputs": [
    {
     "name": "stdout",
     "output_type": "stream",
     "text": [
      "Enter your name: Lilly\n",
      "Name written to my_name.txt\n"
     ]
    }
   ],
   "source": [
    "filename = \"my_name.txt\"\n",
    "\n",
    "# tell user to enter name\n",
    "name = input(\"Enter your name: \")\n",
    "\n",
    "# Open file in write mode\n",
    "file = open(filename, \"w\")\n",
    "\n",
    "# Write name to the file\n",
    "file.write(name)\n",
    "\n",
    "# Close file\n",
    "file.close()\n",
    "\n",
    "print(\"Name written to\", filename)\n"
   ]
  },
  {
   "cell_type": "code",
   "execution_count": null,
   "id": "3e3c0f42",
   "metadata": {},
   "outputs": [],
   "source": []
  }
 ],
 "metadata": {
  "kernelspec": {
   "display_name": "Python 3 (ipykernel)",
   "language": "python",
   "name": "python3"
  },
  "language_info": {
   "codemirror_mode": {
    "name": "ipython",
    "version": 3
   },
   "file_extension": ".py",
   "mimetype": "text/x-python",
   "name": "python",
   "nbconvert_exporter": "python",
   "pygments_lexer": "ipython3",
   "version": "3.10.9"
  }
 },
 "nbformat": 4,
 "nbformat_minor": 5
}
