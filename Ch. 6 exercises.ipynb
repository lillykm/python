{
 "cells": [
  {
   "cell_type": "markdown",
   "id": "b3096648",
   "metadata": {},
   "source": [
    "# Ch. 6 Exercises"
   ]
  },
  {
   "cell_type": "markdown",
   "id": "dd084d46",
   "metadata": {},
   "source": [
    "## Algorithm Workbench"
   ]
  },
  {
   "cell_type": "markdown",
   "id": "03e7468e",
   "metadata": {},
   "source": [
    "### Number 1"
   ]
  },
  {
   "cell_type": "markdown",
   "id": "12976a1c",
   "metadata": {},
   "source": [
    "This question asks us to write a program that opens an output file with the filename my_name.txt, writes your name to the file, then closes the file"
   ]
  },
  {
   "cell_type": "code",
   "execution_count": 7,
   "id": "7d04b84a",
   "metadata": {},
   "outputs": [
    {
     "ename": "NameError",
     "evalue": "name 'Lilly' is not defined",
     "output_type": "error",
     "traceback": [
      "\u001b[0;31m---------------------------------------------------------------------------\u001b[0m",
      "\u001b[0;31mNameError\u001b[0m                                 Traceback (most recent call last)",
      "Cell \u001b[0;32mIn[7], line 1\u001b[0m\n\u001b[0;32m----> 1\u001b[0m name \u001b[38;5;241m=\u001b[39m \u001b[43mLilly\u001b[49m \n\u001b[1;32m      2\u001b[0m filename \u001b[38;5;241m=\u001b[39m \u001b[38;5;124m\"\u001b[39m\u001b[38;5;124mmy_name.txt\u001b[39m\u001b[38;5;124m\"\u001b[39m\n\u001b[1;32m      4\u001b[0m file \u001b[38;5;241m=\u001b[39m \u001b[38;5;28mopen\u001b[39m(filename, \u001b[38;5;124m\"\u001b[39m\u001b[38;5;124mw\u001b[39m\u001b[38;5;124m\"\u001b[39m)\n",
      "\u001b[0;31mNameError\u001b[0m: name 'Lilly' is not defined"
     ]
    }
   ],
   "source": [
    "name = ('') \n",
    "filename = \"my_name.txt\"\n",
    "\n",
    "file = open(filename, \"w\")\n",
    "\n",
    "file.write(name)\n",
    "\n",
    "file.close()\n",
    "\n",
    "print(\"Name written to\", filename)\n"
   ]
  },
  {
   "cell_type": "code",
   "execution_count": 8,
   "id": "ff5100b5",
   "metadata": {},
   "outputs": [
    {
     "name": "stdout",
     "output_type": "stream",
     "text": [
      "Enter your name: Lilly\n",
      "Name written to my_name.txt\n"
     ]
    }
   ],
   "source": [
    "filename = \"my_name.txt\"\n",
    "\n",
    "# tell user to enter name\n",
    "name = input(\"Enter your name: \")\n",
    "\n",
    "# Open file in write mode\n",
    "file = open(filename, \"w\")\n",
    "\n",
    "# Write name to the file\n",
    "file.write(name)\n",
    "\n",
    "# Close file\n",
    "file.close()\n",
    "\n",
    "print(\"Name written to\", filename)\n"
   ]
  },
  {
   "cell_type": "markdown",
   "id": "908fa3aa",
   "metadata": {},
   "source": [
    "### Number 6"
   ]
  },
  {
   "cell_type": "markdown",
   "id": "49f7e063",
   "metadata": {},
   "source": [
    "This question asks us to write code that opens an output file with the filename number_list.txt, but does not erase the file’s contents if it already exists. "
   ]
  },
  {
   "cell_type": "code",
   "execution_count": 12,
   "id": "0eaf5a69",
   "metadata": {},
   "outputs": [
    {
     "name": "stdout",
     "output_type": "stream",
     "text": [
      "Data appended to number_list.txt\n"
     ]
    }
   ],
   "source": [
    "filename = \"number_list.txt\"\n",
    "\n",
    "# Open file in append mode\n",
    "file = open(filename, \"a\")\n",
    "\n",
    "# Write data to file\n",
    "file.write(\"New data to append\\n\")\n",
    "\n",
    "# Close file\n",
    "file.close()\n",
    "\n",
    "print(\"Data appended to\", filename)\n"
   ]
  },
  {
   "cell_type": "markdown",
   "id": "0a0e88fc",
   "metadata": {},
   "source": [
    "Step 1: set variable filename to number_list.txt\n",
    "Step 2: I used the open function to open the file in append mode. This will allow new data to be added to the end of existing contents while not erasing the file if it already exists.\n",
    "STep 3: Now I can write data to the file. I added the string \"New data to append\\n\". \n",
    "Step 4: Now I simply closed my file\n",
    "Step 5: NOw a message is printed that shows that the data has been appended to the file"
   ]
  },
  {
   "cell_type": "markdown",
   "id": "95a4e9ae",
   "metadata": {},
   "source": [
    "## Programming Exercises"
   ]
  },
  {
   "cell_type": "markdown",
   "id": "ada5acb7",
   "metadata": {},
   "source": [
    "### Question 1"
   ]
  },
  {
   "cell_type": "markdown",
   "id": "25ea0522",
   "metadata": {},
   "source": [
    "This question asks us to assume a file containing a series of integers is named numbers.txt and exists on the computer’s disk. Write a program that displays all of the numbers in the file."
   ]
  },
  {
   "cell_type": "code",
   "execution_count": 21,
   "id": "67063f54",
   "metadata": {},
   "outputs": [
    {
     "name": "stdout",
     "output_type": "stream",
     "text": [
      "10\n",
      "25\n",
      "-5\n",
      "42\n",
      "7\n"
     ]
    }
   ],
   "source": [
    "filename = \"numbers.txt\"\n",
    "\n",
    "try:\n",
    "    with open(filename, \"r\") as file:\n",
    "        # Read each line in the file\n",
    "        lines = file.readlines()\n",
    "\n",
    "        # Display all the numbers in the file\n",
    "        for line in lines:\n",
    "            number = int(line.strip())\n",
    "            print(number)\n",
    "\n",
    "except FileNotFoundError:\n",
    "    print(f\"File '{filename}' not found.\")\n"
   ]
  },
  {
   "cell_type": "markdown",
   "id": "b6e9c82b",
   "metadata": {},
   "source": [
    "### Question 6"
   ]
  },
  {
   "cell_type": "markdown",
   "id": "16f1d86f",
   "metadata": {},
   "source": [
    "This question asks us to assume a file containing a series of integers is named numbers.txt and exists on the computer’s disk. Write a program that calculates the average of all the numbers stored in the file."
   ]
  },
  {
   "cell_type": "code",
   "execution_count": 22,
   "id": "b9defc2d",
   "metadata": {},
   "outputs": [
    {
     "name": "stdout",
     "output_type": "stream",
     "text": [
      "Average: 15.8\n"
     ]
    }
   ],
   "source": [
    "filename = \"numbers.txt\"\n",
    "\n",
    "try:\n",
    "    with open(filename, \"r\") as file:\n",
    "        # Read each line in the file\n",
    "        lines = file.readlines()\n",
    "\n",
    "        # Convert lines to integers and calculate the sum\n",
    "        total_sum = 0\n",
    "        for line in lines:\n",
    "            number = int(line.strip())\n",
    "            total_sum += number\n",
    "\n",
    "        # Calculate average\n",
    "        average = total_sum / len(lines)\n",
    "\n",
    "        # Display average\n",
    "        print(\"Average:\", average)\n",
    "\n",
    "except FileNotFoundError:\n",
    "    print(f\"File '{filename}' not found.\")\n"
   ]
  },
  {
   "cell_type": "markdown",
   "id": "0333fbc4",
   "metadata": {},
   "source": [
    "### Question 9"
   ]
  },
  {
   "cell_type": "markdown",
   "id": "e3e6e86d",
   "metadata": {},
   "source": [
    "This question asks us to modify the program that you wrote for Exercise 6 so it handles the following exceptions:  It should handle any IOError exceptions that are raised when the file is opened and data is read from it.It should handle any ValueError exceptions that are raised when the items that are read from the file are converted to a number."
   ]
  },
  {
   "cell_type": "code",
   "execution_count": 23,
   "id": "f8a87ac7",
   "metadata": {},
   "outputs": [
    {
     "name": "stdout",
     "output_type": "stream",
     "text": [
      "Average: 15.8\n"
     ]
    }
   ],
   "source": [
    "filename = \"numbers.txt\"\n",
    "\n",
    "try:\n",
    "    with open(filename, \"r\") as file:\n",
    "        # Read each line in the file\n",
    "        lines = file.readlines()\n",
    "\n",
    "        # Convert lines to integers and calculate the sum\n",
    "        total_sum = 0\n",
    "        for line in lines:\n",
    "            try: \n",
    "                number = int(line.strip())\n",
    "                total_sum += number\n",
    "            except ValueError:\n",
    "                print(f\"Invalid value found in the file: {line.strip()}\")\n",
    "            \n",
    "\n",
    "        # Calculate average\n",
    "        average = total_sum / len(lines)\n",
    "\n",
    "        # Display average\n",
    "        print(\"Average:\", average)\n",
    "\n",
    "except FileNotFoundError:\n",
    "    print(f\"File '{filename}' not found.\")"
   ]
  },
  {
   "cell_type": "code",
   "execution_count": null,
   "id": "76500b38",
   "metadata": {},
   "outputs": [],
   "source": []
  }
 ],
 "metadata": {
  "kernelspec": {
   "display_name": "Python 3 (ipykernel)",
   "language": "python",
   "name": "python3"
  },
  "language_info": {
   "codemirror_mode": {
    "name": "ipython",
    "version": 3
   },
   "file_extension": ".py",
   "mimetype": "text/x-python",
   "name": "python",
   "nbconvert_exporter": "python",
   "pygments_lexer": "ipython3",
   "version": "3.10.9"
  }
 },
 "nbformat": 4,
 "nbformat_minor": 5
}
