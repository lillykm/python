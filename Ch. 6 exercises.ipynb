{
 "cells": [
  {
   "cell_type": "markdown",
   "id": "1fcc9cbe",
   "metadata": {},
   "source": [
    "# Ch. 6 Exercises"
   ]
  },
  {
   "cell_type": "markdown",
   "id": "6bc7f981",
   "metadata": {},
   "source": [
    "## Algorithm Workbench"
   ]
  },
  {
   "cell_type": "markdown",
   "id": "060b36a0",
   "metadata": {},
   "source": [
    "### Number 1"
   ]
  },
  {
   "cell_type": "markdown",
   "id": "1c3c68b4",
   "metadata": {},
   "source": [
    "This question asks us to write a program that opens an output file with the filename my_name.txt, writes your name to the file, then closes the file"
   ]
  },
  {
   "cell_type": "code",
   "execution_count": null,
   "id": "e6fdc958",
   "metadata": {},
   "outputs": [],
   "source": [
    "name = Lilly "
   ]
  }
 ],
 "metadata": {
  "kernelspec": {
   "display_name": "Python 3 (ipykernel)",
   "language": "python",
   "name": "python3"
  },
  "language_info": {
   "codemirror_mode": {
    "name": "ipython",
    "version": 3
   },
   "file_extension": ".py",
   "mimetype": "text/x-python",
   "name": "python",
   "nbconvert_exporter": "python",
   "pygments_lexer": "ipython3",
   "version": "3.10.9"
  }
 },
 "nbformat": 4,
 "nbformat_minor": 5
}
