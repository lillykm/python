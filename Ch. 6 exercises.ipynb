{
 "cells": [
  {
   "cell_type": "markdown",
   "id": "14efe40f",
   "metadata": {},
   "source": [
    "# Ch. 6 Exercises"
   ]
  },
  {
   "cell_type": "markdown",
   "id": "2b85db20",
   "metadata": {},
   "source": [
    "## Algorithm Workbench"
   ]
  },
  {
   "cell_type": "markdown",
   "id": "dfef0b27",
   "metadata": {},
   "source": [
    "### Number 1"
   ]
  },
  {
   "cell_type": "markdown",
   "id": "ab38fea3",
   "metadata": {},
   "source": [
    "This question asks us to write a program that opens an output file with the filename my_name.txt, writes your name to the file, then closes the file"
   ]
  },
  {
   "cell_type": "code",
   "execution_count": 5,
   "id": "2af5bd9a",
   "metadata": {},
   "outputs": [
    {
     "ename": "NameError",
     "evalue": "name 'Lilly' is not defined",
     "output_type": "error",
     "traceback": [
      "\u001b[0;31m---------------------------------------------------------------------------\u001b[0m",
      "\u001b[0;31mNameError\u001b[0m                                 Traceback (most recent call last)",
      "Cell \u001b[0;32mIn[5], line 1\u001b[0m\n\u001b[0;32m----> 1\u001b[0m name \u001b[38;5;241m=\u001b[39m \u001b[43mLilly\u001b[49m \n\u001b[1;32m      2\u001b[0m filename \u001b[38;5;241m=\u001b[39m \u001b[38;5;124m\"\u001b[39m\u001b[38;5;124mmy_name.txt\u001b[39m\u001b[38;5;124m\"\u001b[39m\n\u001b[1;32m      4\u001b[0m file \u001b[38;5;241m=\u001b[39m \u001b[38;5;28mopen\u001b[39m(filename, \u001b[38;5;124m\"\u001b[39m\u001b[38;5;124mw\u001b[39m\u001b[38;5;124m\"\u001b[39m)\n",
      "\u001b[0;31mNameError\u001b[0m: name 'Lilly' is not defined"
     ]
    }
   ],
   "source": [
    "name = Lilly \n",
    "filename = \"my_name.txt\"\n",
    "\n",
    "file = open(filename, \"w\")\n",
    "\n",
    "file.write(name)\n",
    "\n",
    "file.close()\n",
    "\n",
    "print(\"Name written to\", filename)\n"
   ]
  },
  {
   "cell_type": "code",
   "execution_count": null,
   "id": "c3e977fa",
   "metadata": {},
   "outputs": [],
   "source": []
  }
 ],
 "metadata": {
  "kernelspec": {
   "display_name": "Python 3 (ipykernel)",
   "language": "python",
   "name": "python3"
  },
  "language_info": {
   "codemirror_mode": {
    "name": "ipython",
    "version": 3
   },
   "file_extension": ".py",
   "mimetype": "text/x-python",
   "name": "python",
   "nbconvert_exporter": "python",
   "pygments_lexer": "ipython3",
   "version": "3.10.9"
  }
 },
 "nbformat": 4,
 "nbformat_minor": 5
}
