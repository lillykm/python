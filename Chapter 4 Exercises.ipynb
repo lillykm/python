{
 "cells": [
  {
   "cell_type": "markdown",
   "id": "34fd8681",
   "metadata": {},
   "source": [
    "# Chapter 4 Exercises"
   ]
  },
  {
   "cell_type": "markdown",
   "id": "0d2064bf",
   "metadata": {},
   "source": [
    "## Algorithm Workbench"
   ]
  },
  {
   "cell_type": "markdown",
   "id": "7e2e8ea2",
   "metadata": {},
   "source": [
    "### Number 1"
   ]
  },
  {
   "cell_type": "markdown",
   "id": "6a7eea16",
   "metadata": {},
   "source": [
    "This question asks us to write a while loop that lets the user enter a number. The number should be multiplied by 10, and the result assigned to a variable named product."
   ]
  },
  {
   "cell_type": "code",
   "execution_count": 1,
   "id": "a763dd51",
   "metadata": {},
   "outputs": [],
   "source": [
    "product = 0 # set the first product value equal to 0"
   ]
  },
  {
   "cell_type": "markdown",
   "id": "2ce5eb4e",
   "metadata": {},
   "source": [
    "Now i'm going to attempt to create a loop that will go on as long as the value is less than 100. "
   ]
  },
  {
   "cell_type": "code",
   "execution_count": 3,
   "id": "f738075d",
   "metadata": {},
   "outputs": [
    {
     "ename": "SyntaxError",
     "evalue": "incomplete input (187249714.py, line 1)",
     "output_type": "error",
     "traceback": [
      "\u001b[0;36m  Cell \u001b[0;32mIn[3], line 1\u001b[0;36m\u001b[0m\n\u001b[0;31m    while product < 100:\u001b[0m\n\u001b[0m                        ^\u001b[0m\n\u001b[0;31mSyntaxError\u001b[0m\u001b[0;31m:\u001b[0m incomplete input\n"
     ]
    }
   ],
   "source": [
    "while product < 100:"
   ]
  },
  {
   "cell_type": "markdown",
   "id": "c4f50ba3",
   "metadata": {},
   "source": [
    "There's an error but only becauswe I'm doing this in steps so the computer thinks my code is incomplete"
   ]
  },
  {
   "cell_type": "code",
   "execution_count": 4,
   "id": "1a5efdd9",
   "metadata": {},
   "outputs": [
    {
     "name": "stdout",
     "output_type": "stream",
     "text": [
      "Enter a number: 4\n"
     ]
    }
   ],
   "source": [
    "    number = (input(\"Enter a number: \"))"
   ]
  },
  {
   "cell_type": "markdown",
   "id": "a5513cef",
   "metadata": {},
   "source": [
    "I'm going to combine the code so far"
   ]
  },
  {
   "cell_type": "code",
   "execution_count": null,
   "id": "d4ad7aaf",
   "metadata": {},
   "outputs": [
    {
     "name": "stdout",
     "output_type": "stream",
     "text": [
      "Enter a number: 4\n",
      "Enter a number: 4\n"
     ]
    }
   ],
   "source": [
    "product = 0 # set the first product value equal to 0\n",
    "while product < 100:\n",
    "    number = (input(\"Enter a number: \"))"
   ]
  },
  {
   "cell_type": "markdown",
   "id": "9bc170cf",
   "metadata": {},
   "source": [
    "I forgot to include float statment"
   ]
  },
  {
   "cell_type": "markdown",
   "id": "92d55710",
   "metadata": {},
   "source": [
    "product = 0 # set the first product value equal to 0\n",
    "while product < 100:\n",
    "    number = float(input(\"Enter a number: \"))"
   ]
  },
  {
   "cell_type": "code",
   "execution_count": null,
   "id": "569d6d02",
   "metadata": {},
   "outputs": [],
   "source": []
  }
 ],
 "metadata": {
  "kernelspec": {
   "display_name": "Python 3 (ipykernel)",
   "language": "python",
   "name": "python3"
  },
  "language_info": {
   "codemirror_mode": {
    "name": "ipython",
    "version": 3
   },
   "file_extension": ".py",
   "mimetype": "text/x-python",
   "name": "python",
   "nbconvert_exporter": "python",
   "pygments_lexer": "ipython3",
   "version": "3.10.9"
  }
 },
 "nbformat": 4,
 "nbformat_minor": 5
}
