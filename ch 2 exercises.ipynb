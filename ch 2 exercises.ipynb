{
 "cells": [
  {
   "cell_type": "markdown",
   "id": "e84991cf",
   "metadata": {},
   "source": [
    "# Chapter 2 Exercises"
   ]
  },
  {
   "cell_type": "markdown",
   "id": "c2ee7ca6",
   "metadata": {},
   "source": [
    "## Algorithm Workbench No. 5"
   ]
  },
  {
   "cell_type": "markdown",
   "id": "be1817ce",
   "metadata": {},
   "source": [
    "We are asked to write a python statement that assigns the sum of 10 and 14 to the variable total"
   ]
  },
  {
   "cell_type": "code",
   "execution_count": 3,
   "id": "9f8a7e17",
   "metadata": {},
   "outputs": [],
   "source": [
    "Total = 10 + 14"
   ]
  },
  {
   "cell_type": "markdown",
   "id": "69159db5",
   "metadata": {},
   "source": [
    "In the line above, I started with the variable \"Total,\" and set it equal to the numbers 10 plus fourteen which adds the two together. Now the variable \"Total\" means 10 and 14 added together. When the print function is used it will give us the sum of the two numbers. "
   ]
  },
  {
   "cell_type": "code",
   "execution_count": 4,
   "id": "474ed836",
   "metadata": {},
   "outputs": [
    {
     "name": "stdout",
     "output_type": "stream",
     "text": [
      "24\n"
     ]
    }
   ],
   "source": [
    "print(Total)"
   ]
  },
  {
   "cell_type": "markdown",
   "id": "8945cb37",
   "metadata": {},
   "source": [
    "When using the print function and inserting \"Total,\" the output is 24, the sum of 10 and 14. This is because I set \"Total\" to be the variable for the sum of 10 and 14, now my computer knows that the word Total means the sum of 10 and 14, as shown in the line above."
   ]
  },
  {
   "cell_type": "markdown",
   "id": "d9ca5125",
   "metadata": {},
   "source": [
    "## Programming Exercises No. 1"
   ]
  },
  {
   "cell_type": "markdown",
   "id": "3f14fd5a",
   "metadata": {},
   "source": [
    "We are asked to write a program that displays the personal information of a made up character in a list form"
   ]
  },
  {
   "cell_type": "markdown",
   "id": "8b31c4fa",
   "metadata": {},
   "source": [
    "print('Cameron Calero')\n",
    "\n",
    "print('2045 Heliport Loop')\n",
    "\n",
    "print(Riverfork, IN 43286')\n",
    "\n",
    "print(812-555-1212)\n",
    "\n",
    "print(Major: Business)"
   ]
  },
  {
   "cell_type": "markdown",
   "id": "02eb7019",
   "metadata": {},
   "source": [
    "In the lines above, I displayed how I beleive is the correct way to make my output the personal information in list form of Cameron Calero. In the next line, I'm going to displayt my prediction of the output from the program I have typed above this line."
   ]
  },
  {
   "cell_type": "markdown",
   "id": "020b1586",
   "metadata": {},
   "source": [
    "Cameron Calero\n",
    "\n",
    "2045 Heliport Loop\n",
    "\n",
    "Riverfolk, IN 43286\n",
    "\n",
    "812-555-1212\n",
    "\n",
    "Major: Business"
   ]
  },
  {
   "cell_type": "markdown",
   "id": "6803a41f",
   "metadata": {},
   "source": [
    "Now, I'm actually going to run the code to see if my prediction was correct"
   ]
  },
  {
   "cell_type": "code",
   "execution_count": 6,
   "id": "eb62a66b",
   "metadata": {},
   "outputs": [
    {
     "ename": "SyntaxError",
     "evalue": "unterminated string literal (detected at line 5) (1572083367.py, line 5)",
     "output_type": "error",
     "traceback": [
      "\u001b[0;36m  Cell \u001b[0;32mIn[6], line 5\u001b[0;36m\u001b[0m\n\u001b[0;31m    print(Riverfork, IN 43286')\u001b[0m\n\u001b[0m                             ^\u001b[0m\n\u001b[0;31mSyntaxError\u001b[0m\u001b[0;31m:\u001b[0m unterminated string literal (detected at line 5)\n"
     ]
    }
   ],
   "source": [
    "print('Cameron Calero')\n",
    "\n",
    "print('2045 Heliport Loop')\n",
    "\n",
    "print(Riverfork, IN 43286')\n",
    "\n",
    "print(812-555-1212)\n",
    "\n",
    "print(Major: Business)"
   ]
  },
  {
   "cell_type": "markdown",
   "id": "d7be7af4",
   "metadata": {},
   "source": [
    "I was presented with a syntax error because somehow I forgot to include quotation marks, heres my fixed program below"
   ]
  },
  {
   "cell_type": "code",
   "execution_count": 8,
   "id": "532559fe",
   "metadata": {},
   "outputs": [
    {
     "name": "stdout",
     "output_type": "stream",
     "text": [
      "Cameron Calero\n",
      "2045 Heliport Loop\n",
      "Riverfork, IN 43286\n",
      "812-555-1212\n",
      "Major: Business\n"
     ]
    }
   ],
   "source": [
    "print('Cameron Calero')\n",
    "\n",
    "print('2045 Heliport Loop')\n",
    "\n",
    "print('Riverfork, IN 43286')\n",
    "\n",
    "print('812-555-1212')\n",
    "\n",
    "print('Major: Business')"
   ]
  },
  {
   "cell_type": "markdown",
   "id": "82fdf47c",
   "metadata": {},
   "source": [
    "As you can see above, now that all my errors were worked out, my output is correct and the personal information of Cameron Calero is presented in list form"
   ]
  },
  {
   "cell_type": "markdown",
   "id": "4dda3a10",
   "metadata": {},
   "source": [
    "## Programming Exercises No. 13"
   ]
  },
  {
   "cell_type": "markdown",
   "id": "398ebd4c",
   "metadata": {},
   "source": [
    "We are asked to calculate the number of grape vines that will fit in a row"
   ]
  },
  {
   "cell_type": "code",
   "execution_count": 54,
   "id": "14a75766",
   "metadata": {},
   "outputs": [
    {
     "name": "stdout",
     "output_type": "stream",
     "text": [
      "Please enter the length of the row, in feet:60\n"
     ]
    }
   ],
   "source": [
    "#find the length of the row, in feet\n",
    "length = int(input('Please enter the length of the row, in feet:'))"
   ]
  },
  {
   "cell_type": "markdown",
   "id": "5ab8f06d",
   "metadata": {},
   "source": [
    "I included int since it is a whole number"
   ]
  },
  {
   "cell_type": "code",
   "execution_count": 74,
   "id": "8206c0a0",
   "metadata": {},
   "outputs": [
    {
     "name": "stdout",
     "output_type": "stream",
     "text": [
      "60\n"
     ]
    }
   ],
   "source": [
    "print(length)"
   ]
  },
  {
   "cell_type": "markdown",
   "id": "565b2b62",
   "metadata": {},
   "source": [
    "In the lines above, I chose my own number for the length of the row in feet (60) since the textbook didn't give us any numbers to use. Now the number 60 is associated with the length in my computers memory, as shown with the print function"
   ]
  },
  {
   "cell_type": "code",
   "execution_count": 75,
   "id": "8b01a469",
   "metadata": {
    "scrolled": true
   },
   "outputs": [
    {
     "name": "stdout",
     "output_type": "stream",
     "text": [
      "Please enter the amount of space used in an end-post assembly, in feet:4\n"
     ]
    }
   ],
   "source": [
    "#find the amount of space used in an end-post assemply, in feet\n",
    "endpost_space_used = int(input(\"Please enter the amount of space used in an end-post assembly, in feet:\"))\n"
   ]
  },
  {
   "cell_type": "markdown",
   "id": "740db3d3",
   "metadata": {},
   "source": [
    "In the cell above, I again chose my own number (4) for the amount of space used in an end-post assembly"
   ]
  },
  {
   "cell_type": "code",
   "execution_count": 76,
   "id": "2d714f5b",
   "metadata": {},
   "outputs": [
    {
     "name": "stdout",
     "output_type": "stream",
     "text": [
      "4\n"
     ]
    }
   ],
   "source": [
    "print(endpost_space_used)"
   ]
  },
  {
   "cell_type": "markdown",
   "id": "ccb1fc67",
   "metadata": {},
   "source": [
    "Now the number 4 is associated with the endpost space used in my computers memory by using variables, as shown in the cell above"
   ]
  },
  {
   "cell_type": "code",
   "execution_count": 77,
   "id": "2c1c7aab",
   "metadata": {},
   "outputs": [
    {
     "name": "stdout",
     "output_type": "stream",
     "text": [
      "Please enter the space between vines, in feet:2\n"
     ]
    }
   ],
   "source": [
    "#find the space between vines, in feet\n",
    "space_between_vines = int(input(\"Please enter the space between vines, in feet:\"))"
   ]
  },
  {
   "cell_type": "markdown",
   "id": "f1b3f7af",
   "metadata": {},
   "source": [
    "In the cell above, I once again chose my own number (2) for the space between vines"
   ]
  },
  {
   "cell_type": "code",
   "execution_count": 78,
   "id": "f8886569",
   "metadata": {},
   "outputs": [
    {
     "name": "stdout",
     "output_type": "stream",
     "text": [
      "2\n"
     ]
    }
   ],
   "source": [
    "print(space_between_vines)"
   ]
  },
  {
   "cell_type": "markdown",
   "id": "92b2acac",
   "metadata": {},
   "source": [
    "Now the number 2 is associated with the space between vines in my computers memory"
   ]
  },
  {
   "cell_type": "code",
   "execution_count": 79,
   "id": "a2d8a569",
   "metadata": {},
   "outputs": [],
   "source": [
    "#set each letter(R,E, and S) equal to the variables i just created (Length, space used, and space between)\n",
    "R = length\n",
    "E = endpost_space_used\n",
    "S = space_between_vines"
   ]
  },
  {
   "cell_type": "code",
   "execution_count": 80,
   "id": "9d7ee1ec",
   "metadata": {},
   "outputs": [
    {
     "name": "stdout",
     "output_type": "stream",
     "text": [
      "60\n",
      "4\n",
      "2\n"
     ]
    }
   ],
   "source": [
    "#Test to make sure it works\n",
    "print(R)\n",
    "print(E)\n",
    "print(S)"
   ]
  },
  {
   "cell_type": "code",
   "execution_count": 81,
   "id": "fa454564",
   "metadata": {},
   "outputs": [],
   "source": [
    "#use the original equation given in problem 13 and set it equal to V to get answer\n",
    "V = (R - 2 * E)/S"
   ]
  },
  {
   "cell_type": "code",
   "execution_count": 82,
   "id": "268dc17a",
   "metadata": {},
   "outputs": [
    {
     "name": "stdout",
     "output_type": "stream",
     "text": [
      "26.0\n"
     ]
    }
   ],
   "source": [
    "print(V)"
   ]
  },
  {
   "cell_type": "code",
   "execution_count": null,
   "id": "c026a14e",
   "metadata": {},
   "outputs": [],
   "source": []
  }
 ],
 "metadata": {
  "kernelspec": {
   "display_name": "Python 3 (ipykernel)",
   "language": "python",
   "name": "python3"
  },
  "language_info": {
   "codemirror_mode": {
    "name": "ipython",
    "version": 3
   },
   "file_extension": ".py",
   "mimetype": "text/x-python",
   "name": "python",
   "nbconvert_exporter": "python",
   "pygments_lexer": "ipython3",
   "version": "3.10.9"
  }
 },
 "nbformat": 4,
 "nbformat_minor": 5
}
