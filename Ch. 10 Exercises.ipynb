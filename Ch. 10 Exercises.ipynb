{
 "cells": [
  {
   "cell_type": "markdown",
   "id": "d76a6e91",
   "metadata": {},
   "source": [
    "# Chapter 10 Exercises"
   ]
  },
  {
   "cell_type": "markdown",
   "id": "21465999",
   "metadata": {},
   "source": [
    "## Programming Exercises"
   ]
  },
  {
   "cell_type": "markdown",
   "id": "04d1a7bb",
   "metadata": {},
   "source": [
    "### Question 1 Pet Class"
   ]
  },
  {
   "cell_type": "markdown",
   "id": "72ca38f5",
   "metadata": {},
   "source": [
    "This questions asks us to write a class named pet using functions from chapter 10."
   ]
  },
  {
   "cell_type": "code",
   "execution_count": 15,
   "id": "a4b58457",
   "metadata": {},
   "outputs": [
    {
     "name": "stdout",
     "output_type": "stream",
     "text": [
      "Enter name of your pet: Cali\n",
      "Enter the type of your pet: dog\n",
      "Enter the age of your pet: 3\n",
      "\n",
      "Pet's Details:\n",
      "Name: Cali\n",
      "Animal Type: dog\n",
      "Age: 3\n"
     ]
    }
   ],
   "source": [
    "\n",
    "from pet_utils import create_pet, get_pet_details \n",
    "\n",
    "def main():\n",
    "    \n",
    "    # tell user to enter pet details\n",
    "    name = input(\"Enter name of your pet: \")\n",
    "    animal_type = input(\"Enter the type of your pet: \")\n",
    "    age = input(\"Enter the age of your pet: \")\n",
    "    \n",
    "    # create pet object using custom function from pet_uitls module\n",
    "    pet_obj = create_pet(name, animal_type, age)\n",
    "    \n",
    "    # display pets details using custom function from pet_utils module\n",
    "    pet_details = get_pet_details(pet_obj)\n",
    "    print(\"\\nPet's Details:\")\n",
    "    print(f\"Name: {pet_details['name']}\")\n",
    "    print(f\"Animal Type: {pet_details['animal_type']}\")\n",
    "    print(f\"Age: {pet_details['age']}\")\n",
    "\n",
    "    \n",
    "if __name__ == \"__main__\":\n",
    "    main()\n"
   ]
  },
  {
   "cell_type": "markdown",
   "id": "48dff770",
   "metadata": {},
   "source": [
    "### Question 2 Car Class"
   ]
  },
  {
   "cell_type": "markdown",
   "id": "f108bbf1",
   "metadata": {},
   "source": [
    "This question asks us to write a class named car containing certain attributes"
   ]
  },
  {
   "cell_type": "code",
   "execution_count": 27,
   "id": "471418be",
   "metadata": {},
   "outputs": [
    {
     "name": "stdout",
     "output_type": "stream",
     "text": [
      "Accelerating...\n",
      "Current Speed: 5 mph\n",
      "Current Speed: 10 mph\n",
      "Current Speed: 15 mph\n",
      "Current Speed: 20 mph\n",
      "Current Speed: 25 mph\n",
      "\n",
      "Braking...\n",
      "Current Speed: 20 mph\n",
      "Current Speed: 15 mph\n",
      "Current Speed: 10 mph\n",
      "Current Speed: 5 mph\n",
      "Current Speed: 0 mph\n"
     ]
    }
   ],
   "source": [
    "from Carr_utils import Car\n",
    "\n",
    "def main():\n",
    "    # make a Car object with year model 2022 and make 'Toyota'\n",
    "    my_car = Car(2022, 'Toyota')\n",
    "\n",
    "    # Call the accelerate method five times and display the current speed after each call\n",
    "    print(\"Accelerating...\")\n",
    "    for _ in range(5):\n",
    "        my_car.accelerate()\n",
    "        print(f\"Current Speed: {my_car.get_speed()} mph\")\n",
    "\n",
    "    # call the brake method five times and display the current speed after each call\n",
    "    print(\"\\nBraking...\")\n",
    "    for _ in range(5):\n",
    "        my_car.brake()\n",
    "        print(f\"Current Speed: {my_car.get_speed()} mph\")\n",
    "\n",
    "\n",
    "if __name__ == \"__main__\":\n",
    "    main()\n"
   ]
  },
  {
   "cell_type": "code",
   "execution_count": null,
   "id": "7e2e6749",
   "metadata": {},
   "outputs": [],
   "source": []
  }
 ],
 "metadata": {
  "kernelspec": {
   "display_name": "Python 3 (ipykernel)",
   "language": "python",
   "name": "python3"
  },
  "language_info": {
   "codemirror_mode": {
    "name": "ipython",
    "version": 3
   },
   "file_extension": ".py",
   "mimetype": "text/x-python",
   "name": "python",
   "nbconvert_exporter": "python",
   "pygments_lexer": "ipython3",
   "version": "3.10.9"
  }
 },
 "nbformat": 4,
 "nbformat_minor": 5
}
