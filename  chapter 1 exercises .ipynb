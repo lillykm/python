{
 "cells": [
  {
   "cell_type": "markdown",
   "id": "3e8fcd82",
   "metadata": {},
   "source": [
    "# Chapter 1 Ex.\n",
    "problems 1,3,4"
   ]
  },
  {
   "cell_type": "markdown",
   "id": "41a32418",
   "metadata": {},
   "source": [
    "## Ex. 1"
   ]
  },
  {
   "cell_type": "code",
   "execution_count": 1,
   "id": "b2bc920e",
   "metadata": {},
   "outputs": [
    {
     "name": "stdout",
     "output_type": "stream",
     "text": [
      "This is a test of the Python interpreter.\n"
     ]
    }
   ],
   "source": [
    "print('This is a test of the Python interpreter.')"
   ]
  },
  {
   "cell_type": "code",
   "execution_count": 3,
   "id": "ac468794",
   "metadata": {},
   "outputs": [
    {
     "name": "stdout",
     "output_type": "stream",
     "text": [
      "Practicing new things: 8\n"
     ]
    }
   ],
   "source": [
    "print('Practicing new things:',8)"
   ]
  },
  {
   "cell_type": "code",
   "execution_count": 13,
   "id": "cd5b12dc",
   "metadata": {},
   "outputs": [
    {
     "name": "stdout",
     "output_type": "stream",
     "text": [
      "I'm still learning the difference between double or single quotes for this class.\n"
     ]
    }
   ],
   "source": [
    "print(\"I'm still learning the difference between double or single quotes for this class.\")"
   ]
  },
  {
   "cell_type": "code",
   "execution_count": 11,
   "id": "2d87543e",
   "metadata": {},
   "outputs": [
    {
     "name": "stdout",
     "output_type": "stream",
     "text": [
      "4+2\n"
     ]
    }
   ],
   "source": [
    "print('4+2')"
   ]
  },
  {
   "cell_type": "code",
   "execution_count": 12,
   "id": "60bc295c",
   "metadata": {},
   "outputs": [
    {
     "data": {
      "text/plain": [
       "6"
      ]
     },
     "execution_count": 12,
     "metadata": {},
     "output_type": "execute_result"
    }
   ],
   "source": [
    "4+2"
   ]
  },
  {
   "cell_type": "markdown",
   "id": "96f7d368",
   "metadata": {},
   "source": [
    "## Ex. 3"
   ]
  },
  {
   "cell_type": "markdown",
   "id": "8126d384",
   "metadata": {},
   "source": [
    "11: 1011, 65: 1000001, 100: 1100100, 255: 11111111"
   ]
  },
  {
   "cell_type": "markdown",
   "id": "c2fffe05",
   "metadata": {},
   "source": [
    "## Ex. 4"
   ]
  },
  {
   "cell_type": "markdown",
   "id": "0a8ff1b7",
   "metadata": {},
   "source": [
    "1101: 11, 1000: 8, 101011: 43"
   ]
  },
  {
   "cell_type": "code",
   "execution_count": null,
   "id": "1aa4194a",
   "metadata": {},
   "outputs": [],
   "source": []
  }
 ],
 "metadata": {
  "kernelspec": {
   "display_name": "Python 3 (ipykernel)",
   "language": "python",
   "name": "python3"
  },
  "language_info": {
   "codemirror_mode": {
    "name": "ipython",
    "version": 3
   },
   "file_extension": ".py",
   "mimetype": "text/x-python",
   "name": "python",
   "nbconvert_exporter": "python",
   "pygments_lexer": "ipython3",
   "version": "3.10.9"
  }
 },
 "nbformat": 4,
 "nbformat_minor": 5
}
