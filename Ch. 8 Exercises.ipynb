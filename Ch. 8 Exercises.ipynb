{
 "cells": [
  {
   "cell_type": "markdown",
   "id": "3b02d42a",
   "metadata": {},
   "source": [
    "# Chapter 8 Exercises"
   ]
  },
  {
   "cell_type": "markdown",
   "id": "3599443e",
   "metadata": {},
   "source": [
    "## Algorithm Workbench"
   ]
  },
  {
   "cell_type": "markdown",
   "id": "cd89f672",
   "metadata": {},
   "source": [
    "### Number 1"
   ]
  },
  {
   "cell_type": "markdown",
   "id": "2b22f485",
   "metadata": {},
   "source": [
    "This question asks us to rewrite rewrite a statement so it only makes one comparison, and does not use the or operator. "
   ]
  },
  {
   "cell_type": "markdown",
   "id": "b0217be7",
   "metadata": {},
   "source": [
    "if choice.upper() == 'Y':"
   ]
  },
  {
   "cell_type": "markdown",
   "id": "7bb58228",
   "metadata": {},
   "source": [
    "I used the upper method with choice to to change the value to uppercase. Then it will compare the uppercase value of choice with 'Y' and if the converted value of choice is that, it means its true which means choice is equal to 'y' or 'Y'. "
   ]
  },
  {
   "cell_type": "markdown",
   "id": "2d4c4dfb",
   "metadata": {},
   "source": [
    "### Number 2"
   ]
  },
  {
   "cell_type": "markdown",
   "id": "8251683a",
   "metadata": {},
   "source": [
    "This question asks us to write a code that counts the number of spaces in that appear in the string referenced by mystring. "
   ]
  },
  {
   "cell_type": "code",
   "execution_count": 13,
   "id": "d6c8f071",
   "metadata": {},
   "outputs": [
    {
     "name": "stdout",
     "output_type": "stream",
     "text": [
      "Enter a string: mystring\n",
      "Number of space characters: 0\n"
     ]
    }
   ],
   "source": [
    "# tell user to enter a string\n",
    "mystring = input(\"Enter a string: \")\n",
    "\n",
    "# set a variable with the count of spaces in the sentence\n",
    "count = 0\n",
    "\n",
    "# Iterate over each character in the string\n",
    "for char in mystring:\n",
    "    # See if the character is a space\n",
    "    if char == ' ':\n",
    "        # Increment the count for space characters\n",
    "        count += 1\n",
    "        \n",
    "# Print amount of spaces\n",
    "print(\"Number of space characters:\", count)"
   ]
  },
  {
   "cell_type": "markdown",
   "id": "8d3758d2",
   "metadata": {},
   "source": [
    "## Programming Exercises"
   ]
  },
  {
   "cell_type": "markdown",
   "id": "ca360b84",
   "metadata": {},
   "source": [
    "### Number 1"
   ]
  },
  {
   "cell_type": "markdown",
   "id": "5c2a1bab",
   "metadata": {},
   "source": [
    "This question asks us to write a program that gets a string containing a person’s first, middle, and last names, and displays their first, middle, and last initials."
   ]
  },
  {
   "cell_type": "code",
   "execution_count": null,
   "id": "989ecd75",
   "metadata": {},
   "outputs": [],
   "source": [
    "# Tell user to input full name\n",
    "full_name = input(\"Enter your full name: \")\n",
    "\n",
    "# split full name into separate names\n",
    "names = full_name.split(\" \")\n"
   ]
  }
 ],
 "metadata": {
  "kernelspec": {
   "display_name": "Python 3 (ipykernel)",
   "language": "python",
   "name": "python3"
  },
  "language_info": {
   "codemirror_mode": {
    "name": "ipython",
    "version": 3
   },
   "file_extension": ".py",
   "mimetype": "text/x-python",
   "name": "python",
   "nbconvert_exporter": "python",
   "pygments_lexer": "ipython3",
   "version": "3.10.9"
  }
 },
 "nbformat": 4,
 "nbformat_minor": 5
}
