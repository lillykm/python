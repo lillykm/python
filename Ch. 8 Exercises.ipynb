{
 "cells": [
  {
   "cell_type": "markdown",
   "id": "91fbbec3",
   "metadata": {},
   "source": [
    "# Chapter 8 Exercises"
   ]
  },
  {
   "cell_type": "markdown",
   "id": "d39f0c9e",
   "metadata": {},
   "source": [
    "## Algorithm Workbench"
   ]
  },
  {
   "cell_type": "markdown",
   "id": "2903f32c",
   "metadata": {},
   "source": [
    "### Number 1"
   ]
  },
  {
   "cell_type": "markdown",
   "id": "3c4ededc",
   "metadata": {},
   "source": [
    "This question asks us to rewrite rewrite a statement so it only makes one comparison, and does not use the or operator. "
   ]
  },
  {
   "cell_type": "markdown",
   "id": "f18fd78e",
   "metadata": {},
   "source": [
    "if choice.upper() == 'Y':"
   ]
  },
  {
   "cell_type": "markdown",
   "id": "2aedc758",
   "metadata": {},
   "source": [
    "I used the upper method with choice to to change the value to uppercase. Then it will compare the uppercase value of choice with 'Y' and if the converted value of choice is that, it means its true which means choice is equal to 'y' or 'Y'. "
   ]
  },
  {
   "cell_type": "markdown",
   "id": "f7e60bb2",
   "metadata": {},
   "source": [
    "### Number 2"
   ]
  },
  {
   "cell_type": "markdown",
   "id": "c0abf1e7",
   "metadata": {},
   "source": [
    "This question asks us to write a code that counts the number of spaces in that appear in the string referenced by mystring. "
   ]
  },
  {
   "cell_type": "code",
   "execution_count": null,
   "id": "fcea0345",
   "metadata": {},
   "outputs": [],
   "source": [
    "# tell user to enter a string\n",
    "mystring = input(\"Enter a string: \")\n",
    "\n",
    "# set a variable with the count of spaces in the sentence\n",
    "count = 0\n",
    "\n",
    "# Iterate over each character in the string\n",
    "for char in mystring:\n",
    "    # See if the character is a space\n",
    "    if char == ' ':\n",
    "        # Increment the count for space characters\n",
    "        count += 1\n",
    "        \n",
    "        "
   ]
  }
 ],
 "metadata": {
  "kernelspec": {
   "display_name": "Python 3 (ipykernel)",
   "language": "python",
   "name": "python3"
  },
  "language_info": {
   "codemirror_mode": {
    "name": "ipython",
    "version": 3
   },
   "file_extension": ".py",
   "mimetype": "text/x-python",
   "name": "python",
   "nbconvert_exporter": "python",
   "pygments_lexer": "ipython3",
   "version": "3.10.9"
  }
 },
 "nbformat": 4,
 "nbformat_minor": 5
}
