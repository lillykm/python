{
 "cells": [
  {
   "cell_type": "markdown",
   "id": "7ff474ad",
   "metadata": {},
   "source": [
    "# Chapter 8 Exercises"
   ]
  },
  {
   "cell_type": "markdown",
   "id": "1f23ffb9",
   "metadata": {},
   "source": [
    "## Algorithm Workbench"
   ]
  },
  {
   "cell_type": "markdown",
   "id": "7a2762ba",
   "metadata": {},
   "source": [
    "### Number 1"
   ]
  },
  {
   "cell_type": "markdown",
   "id": "c70547ef",
   "metadata": {},
   "source": [
    "This question asks us to rewrite rewrite a statement so it only makes one comparison, and does not use the or operator. "
   ]
  },
  {
   "cell_type": "markdown",
   "id": "ca13337a",
   "metadata": {},
   "source": [
    "if choice.upper() == 'Y':"
   ]
  },
  {
   "cell_type": "markdown",
   "id": "6d3dc062",
   "metadata": {},
   "source": [
    "I used the upper method with choice to to change the value to uppercase. Then it will compare the uppercase value of choice with 'Y' and if the converted value of choice is that, it means its true which means choice is equal to 'y' or 'Y'. "
   ]
  },
  {
   "cell_type": "markdown",
   "id": "b418f17e",
   "metadata": {},
   "source": [
    "### Number 2"
   ]
  },
  {
   "cell_type": "markdown",
   "id": "94275a30",
   "metadata": {},
   "source": [
    "This question asks us to write a code that counts the number of spaces in that appear in the string referenced by mystring. "
   ]
  },
  {
   "cell_type": "code",
   "execution_count": null,
   "id": "d4595b1a",
   "metadata": {},
   "outputs": [],
   "source": [
    "# tell user to enter a string\n",
    "mystring = input(\"Enter a string: \")"
   ]
  }
 ],
 "metadata": {
  "kernelspec": {
   "display_name": "Python 3 (ipykernel)",
   "language": "python",
   "name": "python3"
  },
  "language_info": {
   "codemirror_mode": {
    "name": "ipython",
    "version": 3
   },
   "file_extension": ".py",
   "mimetype": "text/x-python",
   "name": "python",
   "nbconvert_exporter": "python",
   "pygments_lexer": "ipython3",
   "version": "3.10.9"
  }
 },
 "nbformat": 4,
 "nbformat_minor": 5
}
