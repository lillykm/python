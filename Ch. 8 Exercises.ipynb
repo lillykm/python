{
 "cells": [
  {
   "cell_type": "markdown",
   "id": "f42ce363",
   "metadata": {},
   "source": [
    "# Chapter 8 Exercises"
   ]
  },
  {
   "cell_type": "markdown",
   "id": "f344a018",
   "metadata": {},
   "source": [
    "## Algorithm Workbench"
   ]
  },
  {
   "cell_type": "markdown",
   "id": "9cc983fb",
   "metadata": {},
   "source": [
    "### Number 1"
   ]
  },
  {
   "cell_type": "markdown",
   "id": "836a5f4b",
   "metadata": {},
   "source": [
    "This question asks us to rewrite rewrite a statement so it only makes one comparison, and does not use the or operator. "
   ]
  },
  {
   "cell_type": "markdown",
   "id": "cde33753",
   "metadata": {},
   "source": [
    "if choice.upper() == 'Y':"
   ]
  },
  {
   "cell_type": "markdown",
   "id": "98b3a541",
   "metadata": {},
   "source": [
    "I used the upper method with choice to to change the value to uppercase. Then it will compare the uppercase value of choice with 'Y' and if the converted value of choice is that, it means its true which means choice is equal to 'y' or 'Y'. "
   ]
  },
  {
   "cell_type": "markdown",
   "id": "b9b28418",
   "metadata": {},
   "source": [
    "### Number 2"
   ]
  },
  {
   "cell_type": "markdown",
   "id": "ee697ffd",
   "metadata": {},
   "source": [
    "This question asks us to write a code that counts the number of spaces in that appear in the string referenced by mystring. "
   ]
  },
  {
   "cell_type": "code",
   "execution_count": 13,
   "id": "c0a5d46b",
   "metadata": {},
   "outputs": [
    {
     "name": "stdout",
     "output_type": "stream",
     "text": [
      "Enter a string: mystring\n",
      "Number of space characters: 0\n"
     ]
    }
   ],
   "source": [
    "# tell user to enter a string\n",
    "mystring = input(\"Enter a string: \")\n",
    "\n",
    "# set a variable with the count of spaces in the sentence\n",
    "count = 0\n",
    "\n",
    "# Iterate over each character in the string\n",
    "for char in mystring:\n",
    "    # See if the character is a space\n",
    "    if char == ' ':\n",
    "        # Increment the count for space characters\n",
    "        count += 1\n",
    "        \n",
    "# Print amount of spaces\n",
    "print(\"Number of space characters:\", count)"
   ]
  },
  {
   "cell_type": "markdown",
   "id": "7d5cb4e4",
   "metadata": {},
   "source": [
    "## Programming Exercises"
   ]
  },
  {
   "cell_type": "markdown",
   "id": "de07fbe5",
   "metadata": {},
   "source": [
    "### Number 1"
   ]
  },
  {
   "cell_type": "markdown",
   "id": "a66cbfe7",
   "metadata": {},
   "source": [
    "This question asks us to write a program that gets a string containing a person’s first, middle, and last names, and displays their first, middle, and last initials."
   ]
  },
  {
   "cell_type": "code",
   "execution_count": null,
   "id": "edbba1fc",
   "metadata": {},
   "outputs": [],
   "source": [
    "# Tell user to input full name\n",
    "full_name = input(\"Enter your full name: \")\n"
   ]
  }
 ],
 "metadata": {
  "kernelspec": {
   "display_name": "Python 3 (ipykernel)",
   "language": "python",
   "name": "python3"
  },
  "language_info": {
   "codemirror_mode": {
    "name": "ipython",
    "version": 3
   },
   "file_extension": ".py",
   "mimetype": "text/x-python",
   "name": "python",
   "nbconvert_exporter": "python",
   "pygments_lexer": "ipython3",
   "version": "3.10.9"
  }
 },
 "nbformat": 4,
 "nbformat_minor": 5
}
