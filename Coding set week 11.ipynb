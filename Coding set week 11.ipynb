{
 "cells": [
  {
   "cell_type": "markdown",
   "id": "8c5c98eb",
   "metadata": {},
   "source": [
    "# Week 11 Excercises"
   ]
  },
  {
   "cell_type": "markdown",
   "id": "3ba7f71f",
   "metadata": {},
   "source": [
    "## Programming Exercises"
   ]
  },
  {
   "cell_type": "markdown",
   "id": "c3e64c20",
   "metadata": {},
   "source": [
    "### Question 1"
   ]
  },
  {
   "cell_type": "markdown",
   "id": "45b30ba3",
   "metadata": {},
   "source": [
    "This question asks us to write an employee class that keeps data attributes for given pieces of information"
   ]
  },
  {
   "cell_type": "code",
   "execution_count": 4,
   "id": "4974993d",
   "metadata": {},
   "outputs": [
    {
     "name": "stdout",
     "output_type": "stream",
     "text": [
      "Enter employee name: Lilly\n",
      "Enter employee number: 24\n",
      "Enter shift number (1 for day, 2 for night): 14\n",
      "Enter hourly pay rate: 12\n",
      "\n",
      "Employee Information:\n",
      "Employee Name: Lilly\n",
      "Employee Number: 24\n",
      "Shift Number: 14\n",
      "Hourly Pay Rate: 12.0\n"
     ]
    }
   ],
   "source": [
    "from employee_module import ShiftEmployee\n",
    "\n",
    "def main():\n",
    "    # Tell the user to enter data \n",
    "    name = input(\"Enter employee name: \")\n",
    "    emp_number = input(\"Enter employee number: \")\n",
    "    shift_number = int(input(\"Enter shift number (1 for day, 2 for night): \"))\n",
    "    hourly_pay_rate = float(input(\"Enter hourly pay rate: \"))\n",
    "\n",
    "    # create object of ShiftEmployee class\n",
    "    emp = ShiftEmployee(name, emp_number, shift_number, hourly_pay_rate)\n",
    "\n",
    "    # Display entered data\n",
    "    print(\"\\nEmployee Information:\")\n",
    "    print(\"Employee Name:\", emp.get_name())\n",
    "    print(\"Employee Number:\", emp.get_emp_number())\n",
    "    print(\"Shift Number:\", emp.get_shift_number())\n",
    "    print(\"Hourly Pay Rate:\", emp.get_hourly_pay_rate())\n",
    "\n",
    "if __name__ == \"__main__\":\n",
    "    main()\n",
    "              \n"
   ]
  },
  {
   "cell_type": "markdown",
   "id": "31688845",
   "metadata": {},
   "source": [
    "### Question 2"
   ]
  },
  {
   "cell_type": "markdown",
   "id": "3b84f359",
   "metadata": {},
   "source": [
    "This question asks us to write a shift supervisor class as a subclass from the employee class we created in programming exercise 1"
   ]
  },
  {
   "cell_type": "code",
   "execution_count": 1,
   "id": "a643abcf",
   "metadata": {},
   "outputs": [
    {
     "name": "stdout",
     "output_type": "stream",
     "text": [
      "Enter shift supervisor name: Gabe\n",
      "Enter employee number: 23\n",
      "Enter shift number (1 for day, 2 for night): 12\n",
      "Enter hourly pay rate: 12.45\n",
      "Enter annual salary: 85000\n",
      "Enter annual production bonus: 20000\n",
      "\n",
      "Shift Supervisor Information:\n",
      "Supervisor Name: Gabe\n",
      "Employee Number: 23\n",
      "Shift Number: 12\n",
      "Hourly Pay Rate: 12.45\n",
      "Annual Salary: 85000.0\n",
      "Annual Production Bonus: 20000.0\n",
      "Total Salary: 105000.0\n"
     ]
    }
   ],
   "source": [
    "# main.py\n",
    "\n",
    "from shift_supervisor_module import ShiftSupervisor\n",
    "\n",
    "def main():\n",
    "    # Tell the user to enter data \n",
    "    name = input(\"Enter shift supervisor name: \")\n",
    "    emp_number = input(\"Enter employee number: \")\n",
    "    shift_number = int(input(\"Enter shift number (1 for day, 2 for night): \"))\n",
    "    hourly_pay_rate = float(input(\"Enter hourly pay rate: \"))\n",
    "    annual_salary = float(input(\"Enter annual salary: \"))\n",
    "    annual_production_bonus = float(input(\"Enter annual production bonus: \"))\n",
    "\n",
    "    # create object of ShiftSupervisor class\n",
    "    supervisor = ShiftSupervisor(\n",
    "        name, emp_number, shift_number, hourly_pay_rate, annual_salary, annual_production_bonus\n",
    "    )\n",
    "\n",
    "    # Display entered data and supervisor's total salary\n",
    "    print(\"\\nShift Supervisor Information:\")\n",
    "    print(\"Supervisor Name:\", supervisor.get_name())\n",
    "    print(\"Employee Number:\", supervisor.get_emp_number())\n",
    "    print(\"Shift Number:\", supervisor.get_shift_number())\n",
    "    print(\"Hourly Pay Rate:\", supervisor.get_hourly_pay_rate())\n",
    "    print(\"Annual Salary:\", supervisor.get_annual_salary())\n",
    "    print(\"Annual Production Bonus:\", supervisor.get_annual_production_bonus())\n",
    "\n",
    "    total_salary = supervisor.get_annual_salary() + supervisor.get_annual_production_bonus()\n",
    "    print(\"Total Salary:\", total_salary)\n",
    "\n",
    "if __name__ == \"__main__\":\n",
    "    main()\n",
    "\n"
   ]
  },
  {
   "cell_type": "code",
   "execution_count": null,
   "id": "3dac3407",
   "metadata": {},
   "outputs": [],
   "source": []
  }
 ],
 "metadata": {
  "kernelspec": {
   "display_name": "Python 3 (ipykernel)",
   "language": "python",
   "name": "python3"
  },
  "language_info": {
   "codemirror_mode": {
    "name": "ipython",
    "version": 3
   },
   "file_extension": ".py",
   "mimetype": "text/x-python",
   "name": "python",
   "nbconvert_exporter": "python",
   "pygments_lexer": "ipython3",
   "version": "3.10.9"
  }
 },
 "nbformat": 4,
 "nbformat_minor": 5
}
