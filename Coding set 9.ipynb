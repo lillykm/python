{
 "cells": [
  {
   "cell_type": "markdown",
   "id": "f9097e4c",
   "metadata": {},
   "source": [
    "# Ch 9 exercises"
   ]
  },
  {
   "cell_type": "markdown",
   "id": "bee20a8f",
   "metadata": {},
   "source": [
    "## Programming exercises"
   ]
  },
  {
   "cell_type": "markdown",
   "id": "ec5878ec",
   "metadata": {},
   "source": [
    "### Question 2"
   ]
  },
  {
   "cell_type": "markdown",
   "id": "71f9437c",
   "metadata": {},
   "source": [
    "This question asks us to write a program that creates a dictionary containing the U.S. states as keys, and their capitals as values"
   ]
  },
  {
   "cell_type": "code",
   "execution_count": 4,
   "id": "c835a911",
   "metadata": {},
   "outputs": [],
   "source": [
    "us_states_capitals = {\n",
    "    \"Alabama\": \"Montgomery\",\n",
    "    \"Alaska\": \"Juneau\",\n",
    "    \"Arizona\": \"Phoenix\",\n",
    "    \"Arkansas\": \"Little Rock\",\n",
    "    \"California\": \"Sacramento\",\n",
    "    \"Colorado\": \"Denver\",\n",
    "    \"Connecticut\": \"Hartford\",\n",
    "    \"Delaware\": \"Dover\",\n",
    "    \"Florida\": \"Tallahassee\",\n",
    "    \"Georgia\": \"Atlanta\",\n",
    "    \"Hawaii\": \"Honolulu\",\n",
    "    \"Idaho\": \"Boise\",\n",
    "    \"Illinois\": \"Springfield\",\n",
    "    \"Indiana\": \"Indianapolis\",\n",
    "    \"Iowa\": \"Des Moines\",\n",
    "    \"Kansas\": \"Topeka\",\n",
    "    \"Kentucky\": \"Frankfort\",\n",
    "    \"Louisiana\": \"Baton Rouge\",\n",
    "    \"Maine\": \"Augusta\",\n",
    "    \"Maryland\": \"Annapolis\",\n",
    "    \"Massachusetts\": \"Boston\",\n",
    "    \"Michigan\": \"Lansing\",\n",
    "    \"Minnesota\": \"Saint Paul\",\n",
    "    \"Mississippi\": \"Jackson\",\n",
    "    \"Missouri\": \"Jefferson City\",\n",
    "    \"Montana\": \"Helena\",\n",
    "    \"Nebraska\": \"Lincoln\",\n",
    "    \"Nevada\": \"Carson City\",\n",
    "    \"New Hampshire\": \"Concord\",\n",
    "    \"New Jersey\": \"Trenton\",\n",
    "    \"New Mexico\": \"Santa Fe\",\n",
    "    \"New York\": \"Albany\",\n",
    "    \"North Carolina\": \"Raleigh\",\n",
    "    \"North Dakota\": \"Bismarck\",\n",
    "    \"Ohio\": \"Columbus\",\n",
    "    \"Oklahoma\": \"Oklahoma City\",\n",
    "    \"Oregon\": \"Salem\",\n",
    "    \"Pennsylvania\": \"Harrisburg\",\n",
    "    \"Rhode Island\": \"Providence\",\n",
    "    \"South Carolina\": \"Columbia\",\n",
    "    \"South Dakota\": \"Pierre\",\n",
    "    \"Tennessee\": \"Nashville\",\n",
    "    \"Texas\": \"Austin\",\n",
    "    \"Utah\": \"Salt Lake City\",\n",
    "    \"Vermont\": \"Montpelier\",\n",
    "    \"Virginia\": \"Richmond\",\n",
    "    \"Washington\": \"Olympia\",\n",
    "    \"West Virginia\": \"Charleston\",\n",
    "    \"Wisconsin\": \"Madison\",\n",
    "    \"Wyoming\": \"Cheyenne\"\n",
    "}"
   ]
  },
  {
   "cell_type": "code",
   "execution_count": 4,
   "id": "301c92f1",
   "metadata": {},
   "outputs": [
    {
     "name": "stdout",
     "output_type": "stream",
     "text": [
      "Welcome to the U.S. State Capitals Quiz!\n",
      "You will be asked to identify the capitals of 2 random U.S. states.\n",
      "\n",
      "Question 1: What is the capital of Alabama? Lansing\n",
      "Wrong! The correct answer is Montgomery.\n",
      "\n",
      "Question 2: What is the capital of Alaska? Juneau\n",
      "Correct!\n",
      "\n",
      "Quiz finished!\n",
      "You got 1 out of 2 correct.\n"
     ]
    }
   ],
   "source": [
    "import random\n",
    "\n",
    "# Dictionary containing U.S. states as keys and their capitals as values\n",
    "us_states_capitals = {\n",
    "    \"Alabama\": \"Montgomery\",\n",
    "    \"Alaska\": \"Juneau\",\n",
    "    # ... (other states and capitals)\n",
    "}\n",
    "\n",
    "def quiz():\n",
    "    states = list(us_states_capitals.keys())\n",
    "    random.shuffle(states)\n",
    "    correct_count = 0\n",
    "    total_states = len(states)\n",
    "    total_questions = min(4, total_states)  # Set the number of questions in the quiz to a maximum of 4\n",
    "\n",
    "    print(\"Welcome to the U.S. State Capitals Quiz!\")\n",
    "    print(f\"You will be asked to identify the capitals of {total_questions} random U.S. states.\\n\")\n",
    "\n",
    "    for i in range(total_questions):\n",
    "        state = states[i]\n",
    "        capital = us_states_capitals[state]\n",
    "        user_input = input(f\"Question {i + 1}: What is the capital of {state}? \").strip()\n",
    "\n",
    "        if user_input.lower() == capital.lower():\n",
    "            print(\"Correct!\\n\")\n",
    "            correct_count += 1\n",
    "        else:\n",
    "            print(f\"Wrong! The correct answer is {capital}.\\n\")\n",
    "\n",
    "    print(\"Quiz finished!\")\n",
    "    print(f\"You got {correct_count} out of {total_questions} correct.\")\n",
    "\n",
    "if __name__ == \"__main__\":\n",
    "    quiz()\n"
   ]
  }
 ],
 "metadata": {
  "kernelspec": {
   "display_name": "Python 3 (ipykernel)",
   "language": "python",
   "name": "python3"
  },
  "language_info": {
   "codemirror_mode": {
    "name": "ipython",
    "version": 3
   },
   "file_extension": ".py",
   "mimetype": "text/x-python",
   "name": "python",
   "nbconvert_exporter": "python",
   "pygments_lexer": "ipython3",
   "version": "3.10.9"
  }
 },
 "nbformat": 4,
 "nbformat_minor": 5
}
