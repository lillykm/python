{
 "cells": [
  {
   "cell_type": "markdown",
   "id": "34fd8681",
   "metadata": {},
   "source": [
    "# Chapter 4 Exercises"
   ]
  },
  {
   "cell_type": "markdown",
   "id": "0d2064bf",
   "metadata": {},
   "source": [
    "## Algorithm Workbench"
   ]
  },
  {
   "cell_type": "markdown",
   "id": "7e2e8ea2",
   "metadata": {},
   "source": [
    "### Number 1"
   ]
  },
  {
   "cell_type": "markdown",
   "id": "6a7eea16",
   "metadata": {},
   "source": [
    "This question asks us to write a while loop that lets the user enter a number. The number should be multiplied by 10, and the result assigned to a variable named product."
   ]
  },
  {
   "cell_type": "code",
   "execution_count": 1,
   "id": "a763dd51",
   "metadata": {},
   "outputs": [],
   "source": [
    "product = 0 # set the first product value equal to 0"
   ]
  },
  {
   "cell_type": "markdown",
   "id": "2ce5eb4e",
   "metadata": {},
   "source": [
    "Now i'm going to attempt to create a loop that will go on as long as the value is less than 100. "
   ]
  },
  {
   "cell_type": "code",
   "execution_count": 3,
   "id": "f738075d",
   "metadata": {},
   "outputs": [
    {
     "ename": "SyntaxError",
     "evalue": "incomplete input (187249714.py, line 1)",
     "output_type": "error",
     "traceback": [
      "\u001b[0;36m  Cell \u001b[0;32mIn[3], line 1\u001b[0;36m\u001b[0m\n\u001b[0;31m    while product < 100:\u001b[0m\n\u001b[0m                        ^\u001b[0m\n\u001b[0;31mSyntaxError\u001b[0m\u001b[0;31m:\u001b[0m incomplete input\n"
     ]
    }
   ],
   "source": [
    "while product < 100:"
   ]
  },
  {
   "cell_type": "markdown",
   "id": "c4f50ba3",
   "metadata": {},
   "source": [
    "There's an error but only becauswe I'm doing this in steps so the computer thinks my code is incomplete"
   ]
  },
  {
   "cell_type": "code",
   "execution_count": 4,
   "id": "1a5efdd9",
   "metadata": {},
   "outputs": [
    {
     "name": "stdout",
     "output_type": "stream",
     "text": [
      "Enter a number: 4\n"
     ]
    }
   ],
   "source": [
    "    number = (input(\"Enter a number: \"))"
   ]
  },
  {
   "cell_type": "markdown",
   "id": "a5513cef",
   "metadata": {},
   "source": [
    "I'm going to combine the code so far"
   ]
  },
  {
   "cell_type": "code",
   "execution_count": null,
   "id": "d4ad7aaf",
   "metadata": {},
   "outputs": [
    {
     "name": "stdout",
     "output_type": "stream",
     "text": [
      "Enter a number: 4\n",
      "Enter a number: 4\n"
     ]
    }
   ],
   "source": [
    "product = 0 # set the first product value equal to 0\n",
    "while product < 100:\n",
    "    number = (input(\"Enter a number: \"))"
   ]
  },
  {
   "cell_type": "markdown",
   "id": "9bc170cf",
   "metadata": {},
   "source": [
    "I forgot to include float statment"
   ]
  },
  {
   "cell_type": "markdown",
   "id": "92d55710",
   "metadata": {},
   "source": [
    "product = 0 # set the first product value equal to 0\n",
    "while product < 100:\n",
    "    number = float(input(\"Enter a number: \"))"
   ]
  },
  {
   "cell_type": "code",
   "execution_count": 2,
   "id": "569d6d02",
   "metadata": {},
   "outputs": [
    {
     "name": "stdout",
     "output_type": "stream",
     "text": [
      "Enter a number: 7\n",
      "Enter a number: 5\n",
      "Enter a number: 4\n",
      "Enter a number: 9\n",
      "Enter a number: 10\n",
      "product is now greater than or equal to 100\n"
     ]
    }
   ],
   "source": [
    "product = 0  # Set the first product value equal to 0\n",
    "\n",
    "while product < 100:  # Continue allowing numbers to be entered as long as product is less than 100\n",
    "    number = float(input(\"Enter a number: \"))  # Tell the user to enter a number and change t it to a float\n",
    "    product = number * 10  # Multiply the number you enter by 10 and assign the answer to the product variable\n",
    "print('product is now greater than or equal to 100')"
   ]
  },
  {
   "cell_type": "markdown",
   "id": "602b1d2b",
   "metadata": {},
   "source": [
    "I entered a series of numbers and the loop continued until my value was greater than 100, then it printed the comment statting the product is greater than 100 or equal to 100."
   ]
  },
  {
   "cell_type": "markdown",
   "id": "498ac7a1",
   "metadata": {},
   "source": [
    "### Number 3"
   ]
  },
  {
   "cell_type": "markdown",
   "id": "10ebc267",
   "metadata": {},
   "source": [
    "In this question we are asked to create a loop that displays the numbers 0, 10 , 20, ... 1000"
   ]
  },
  {
   "cell_type": "markdown",
   "id": "262f7080",
   "metadata": {},
   "source": [
    "for i in range(0, 1001, 10):"
   ]
  },
  {
   "cell_type": "markdown",
   "id": "641bb499",
   "metadata": {},
   "source": [
    "I started with for which is going to start a loop. The i variable takes on the values of each step in the loop. I started with 0 which is the starting point of the loop. I used 1001 because it wont be included in our range and it will use the number before, 1001. THen I used 10 because it will increase each value by ten in the loop. "
   ]
  },
  {
   "cell_type": "code",
   "execution_count": 2,
   "id": "e9312598",
   "metadata": {},
   "outputs": [
    {
     "ename": "IndentationError",
     "evalue": "expected an indented block after 'for' statement on line 1 (533195080.py, line 2)",
     "output_type": "error",
     "traceback": [
      "\u001b[0;36m  Cell \u001b[0;32mIn[2], line 2\u001b[0;36m\u001b[0m\n\u001b[0;31m    print(i)\u001b[0m\n\u001b[0m    ^\u001b[0m\n\u001b[0;31mIndentationError\u001b[0m\u001b[0;31m:\u001b[0m expected an indented block after 'for' statement on line 1\n"
     ]
    }
   ],
   "source": [
    "for i in range(0, 1001, 10):\n",
    "print(i) "
   ]
  },
  {
   "cell_type": "code",
   "execution_count": 4,
   "id": "30a21ad2",
   "metadata": {},
   "outputs": [
    {
     "name": "stdout",
     "output_type": "stream",
     "text": [
      "0\n",
      "10\n",
      "20\n",
      "30\n",
      "40\n",
      "50\n",
      "60\n",
      "70\n",
      "80\n",
      "90\n",
      "100\n",
      "110\n",
      "120\n",
      "130\n",
      "140\n",
      "150\n",
      "160\n",
      "170\n",
      "180\n",
      "190\n",
      "200\n",
      "210\n",
      "220\n",
      "230\n",
      "240\n",
      "250\n",
      "260\n",
      "270\n",
      "280\n",
      "290\n",
      "300\n",
      "310\n",
      "320\n",
      "330\n",
      "340\n",
      "350\n",
      "360\n",
      "370\n",
      "380\n",
      "390\n",
      "400\n",
      "410\n",
      "420\n",
      "430\n",
      "440\n",
      "450\n",
      "460\n",
      "470\n",
      "480\n",
      "490\n",
      "500\n",
      "510\n",
      "520\n",
      "530\n",
      "540\n",
      "550\n",
      "560\n",
      "570\n",
      "580\n",
      "590\n",
      "600\n",
      "610\n",
      "620\n",
      "630\n",
      "640\n",
      "650\n",
      "660\n",
      "670\n",
      "680\n",
      "690\n",
      "700\n",
      "710\n",
      "720\n",
      "730\n",
      "740\n",
      "750\n",
      "760\n",
      "770\n",
      "780\n",
      "790\n",
      "800\n",
      "810\n",
      "820\n",
      "830\n",
      "840\n",
      "850\n",
      "860\n",
      "870\n",
      "880\n",
      "890\n",
      "900\n",
      "910\n",
      "920\n",
      "930\n",
      "940\n",
      "950\n",
      "960\n",
      "970\n",
      "980\n",
      "990\n",
      "1000\n"
     ]
    }
   ],
   "source": [
    "for i in range(0, 1001, 10): # make the range from 0 to 1000 going up by tens\n",
    "    # display current value \n",
    "        print(i) # display value of i \n",
    "    # repeat loop for every value in our range of 0 to 1000\n"
   ]
  },
  {
   "cell_type": "markdown",
   "id": "6240af15",
   "metadata": {},
   "source": [
    "My loop successfully goes from 0 to 1000 going up by tens"
   ]
  },
  {
   "cell_type": "markdown",
   "id": "8b3e16ff",
   "metadata": {},
   "source": [
    "## Programming exercises "
   ]
  },
  {
   "cell_type": "markdown",
   "id": "2832c3ab",
   "metadata": {},
   "source": [
    "### Number 1"
   ]
  },
  {
   "cell_type": "markdown",
   "id": "c2b3d1f7",
   "metadata": {},
   "source": [
    "This question asks us to write a program that keeps a running total of the number of bugs collected in five days"
   ]
  },
  {
   "cell_type": "code",
   "execution_count": 5,
   "id": "1e6a9b74",
   "metadata": {},
   "outputs": [],
   "source": [
    "total_bugs = 0"
   ]
  },
  {
   "cell_type": "markdown",
   "id": "4242879c",
   "metadata": {},
   "source": [
    "first I set the intial amount of bugs to 0 to begin the code"
   ]
  },
  {
   "cell_type": "code",
   "execution_count": 6,
   "id": "bb970ae9",
   "metadata": {},
   "outputs": [
    {
     "ename": "SyntaxError",
     "evalue": "incomplete input (3781964854.py, line 2)",
     "output_type": "error",
     "traceback": [
      "\u001b[0;36m  Cell \u001b[0;32mIn[6], line 2\u001b[0;36m\u001b[0m\n\u001b[0;31m    for day in range(1, 6):\u001b[0m\n\u001b[0m                           ^\u001b[0m\n\u001b[0;31mSyntaxError\u001b[0m\u001b[0;31m:\u001b[0m incomplete input\n"
     ]
    }
   ],
   "source": [
    "total_bugs = 0 \n",
    "for day in range(1, 6):"
   ]
  },
  {
   "cell_type": "markdown",
   "id": "e74cbd91",
   "metadata": {},
   "source": [
    "Now I started a loopn for 5 days. Stopping at 6 will make 5 the last number used which is what we need"
   ]
  },
  {
   "cell_type": "code",
   "execution_count": null,
   "id": "52540bf7",
   "metadata": {},
   "outputs": [],
   "source": []
  }
 ],
 "metadata": {
  "kernelspec": {
   "display_name": "Python 3 (ipykernel)",
   "language": "python",
   "name": "python3"
  },
  "language_info": {
   "codemirror_mode": {
    "name": "ipython",
    "version": 3
   },
   "file_extension": ".py",
   "mimetype": "text/x-python",
   "name": "python",
   "nbconvert_exporter": "python",
   "pygments_lexer": "ipython3",
   "version": "3.10.9"
  }
 },
 "nbformat": 4,
 "nbformat_minor": 5
}
