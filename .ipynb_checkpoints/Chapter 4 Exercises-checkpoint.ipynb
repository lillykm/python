{
 "cells": [
  {
   "cell_type": "markdown",
   "id": "34fd8681",
   "metadata": {},
   "source": [
    "# Chapter 4 Exercises"
   ]
  },
  {
   "cell_type": "markdown",
   "id": "0d2064bf",
   "metadata": {},
   "source": [
    "## Algorithm Workbench"
   ]
  },
  {
   "cell_type": "markdown",
   "id": "7e2e8ea2",
   "metadata": {},
   "source": [
    "### Number 1"
   ]
  },
  {
   "cell_type": "markdown",
   "id": "6a7eea16",
   "metadata": {},
   "source": [
    "This question asks us to write a while loop that lets the user enter a number. The number should be multiplied by 10, and the result assigned to a variable named product."
   ]
  },
  {
   "cell_type": "code",
   "execution_count": 1,
   "id": "a763dd51",
   "metadata": {},
   "outputs": [],
   "source": [
    "product = 0 # set the first product value equal to 0"
   ]
  },
  {
   "cell_type": "markdown",
   "id": "2ce5eb4e",
   "metadata": {},
   "source": [
    "Now i'm going to attempt to create a loop that will go on as long as the value is less than 100. "
   ]
  },
  {
   "cell_type": "code",
   "execution_count": 3,
   "id": "f738075d",
   "metadata": {},
   "outputs": [
    {
     "ename": "SyntaxError",
     "evalue": "incomplete input (187249714.py, line 1)",
     "output_type": "error",
     "traceback": [
      "\u001b[0;36m  Cell \u001b[0;32mIn[3], line 1\u001b[0;36m\u001b[0m\n\u001b[0;31m    while product < 100:\u001b[0m\n\u001b[0m                        ^\u001b[0m\n\u001b[0;31mSyntaxError\u001b[0m\u001b[0;31m:\u001b[0m incomplete input\n"
     ]
    }
   ],
   "source": [
    "while product < 100:"
   ]
  },
  {
   "cell_type": "markdown",
   "id": "c4f50ba3",
   "metadata": {},
   "source": [
    "There's an error but only becauswe I'm doing this in steps so the computer thinks my code is incomplete"
   ]
  },
  {
   "cell_type": "code",
   "execution_count": 4,
   "id": "1a5efdd9",
   "metadata": {},
   "outputs": [
    {
     "name": "stdout",
     "output_type": "stream",
     "text": [
      "Enter a number: 4\n"
     ]
    }
   ],
   "source": [
    "    number = (input(\"Enter a number: \"))"
   ]
  },
  {
   "cell_type": "markdown",
   "id": "a5513cef",
   "metadata": {},
   "source": [
    "I'm going to combine the code so far"
   ]
  },
  {
   "cell_type": "code",
   "execution_count": null,
   "id": "d4ad7aaf",
   "metadata": {},
   "outputs": [
    {
     "name": "stdout",
     "output_type": "stream",
     "text": [
      "Enter a number: 4\n",
      "Enter a number: 4\n"
     ]
    }
   ],
   "source": [
    "product = 0 # set the first product value equal to 0\n",
    "while product < 100:\n",
    "    number = (input(\"Enter a number: \"))"
   ]
  },
  {
   "cell_type": "markdown",
   "id": "9bc170cf",
   "metadata": {},
   "source": [
    "I forgot to include float statment"
   ]
  },
  {
   "cell_type": "markdown",
   "id": "92d55710",
   "metadata": {},
   "source": [
    "product = 0 # set the first product value equal to 0\n",
    "while product < 100:\n",
    "    number = float(input(\"Enter a number: \"))"
   ]
  },
  {
   "cell_type": "code",
   "execution_count": 2,
   "id": "569d6d02",
   "metadata": {},
   "outputs": [
    {
     "name": "stdout",
     "output_type": "stream",
     "text": [
      "Enter a number: 7\n",
      "Enter a number: 5\n",
      "Enter a number: 4\n",
      "Enter a number: 9\n",
      "Enter a number: 10\n",
      "product is now greater than or equal to 100\n"
     ]
    }
   ],
   "source": [
    "product = 0  # Set the first product value equal to 0\n",
    "\n",
    "while product < 100:  # Continue allowing numbers to be entered as long as product is less than 100\n",
    "    number = float(input(\"Enter a number: \"))  # Tell the user to enter a number and change t it to a float\n",
    "    product = number * 10  # Multiply the number you enter by 10 and assign the answer to the product variable\n",
    "print('product is now greater than or equal to 100')"
   ]
  },
  {
   "cell_type": "markdown",
   "id": "602b1d2b",
   "metadata": {},
   "source": [
    "I entered a series of numbers and the loop continued until my value was greater than 100, then it printed the comment statting the product is greater than 100 or equal to 100."
   ]
  },
  {
   "cell_type": "markdown",
   "id": "498ac7a1",
   "metadata": {},
   "source": [
    "### Number 3"
   ]
  },
  {
   "cell_type": "markdown",
   "id": "95fe2947",
   "metadata": {},
   "source": [
    "In this question we are asked to create a loop that displays the numbers 0, 10 , 20, ... 1000"
   ]
  },
  {
   "cell_type": "markdown",
   "id": "392d044a",
   "metadata": {},
   "source": [
    "for i in range(0, 1001, 10):"
   ]
  },
  {
   "cell_type": "markdown",
   "id": "c91ac2d1",
   "metadata": {},
   "source": [
    "I started with for which is going to start a loop. The i variable takes on the values of each step in the loop. I started with 0 which is the starting point of the loop. I used 1001 because it wont be included in our range and it will use the number before, 1001. THen I used 10 because it will increase each value by ten in the loop. "
   ]
  },
  {
   "cell_type": "code",
   "execution_count": null,
   "id": "5b5c7a14",
   "metadata": {},
   "outputs": [],
   "source": []
  }
 ],
 "metadata": {
  "kernelspec": {
   "display_name": "Python 3 (ipykernel)",
   "language": "python",
   "name": "python3"
  },
  "language_info": {
   "codemirror_mode": {
    "name": "ipython",
    "version": 3
   },
   "file_extension": ".py",
   "mimetype": "text/x-python",
   "name": "python",
   "nbconvert_exporter": "python",
   "pygments_lexer": "ipython3",
   "version": "3.10.9"
  }
 },
 "nbformat": 4,
 "nbformat_minor": 5
}
