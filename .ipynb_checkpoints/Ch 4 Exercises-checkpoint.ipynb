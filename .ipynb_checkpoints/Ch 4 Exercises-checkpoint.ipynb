{
 "cells": [
  {
   "cell_type": "markdown",
   "id": "b2c66da1",
   "metadata": {},
   "source": [
    "# Ch. 4 Exercises"
   ]
  },
  {
   "cell_type": "markdown",
   "id": "9f80a115",
   "metadata": {},
   "source": [
    "## Algorithm Workbench"
   ]
  },
  {
   "cell_type": "markdown",
   "id": "9685e818",
   "metadata": {},
   "source": [
    "### Number 1"
   ]
  },
  {
   "cell_type": "markdown",
   "id": "6b6aa964",
   "metadata": {},
   "source": [
    "This question asks us to write a while loop that lets the user enter a number. The number should be multiplied by 10, and the result assigned to a variable named product."
   ]
  },
  {
   "cell_type": "code",
   "execution_count": null,
   "id": "c91849bb",
   "metadata": {},
   "outputs": [],
   "source": [
    "product = 0  # set the product value to 0\n"
   ]
  },
  {
   "cell_type": "markdown",
   "id": "eb439645",
   "metadata": {},
   "source": [
    "First I set the prodcut equal to zero. Once the code is complete I will input a number of my choice. Next I am going to attempt to use the while true statment. Which basically means im making an inifinite loop. It going to continue to execute until the condition for this problem is met and that creates a break statement"
   ]
  },
  {
   "cell_type": "code",
   "execution_count": null,
   "id": "9a5771db",
   "metadata": {},
   "outputs": [],
   "source": [
    "product = 0  # set the product value to 0\n",
    "while True:  # Run the loop until a break statement is encountered\n",
    "    number = (input(\"Enter a number: \"))  # Tell the user to enter a number \n",
    "    product = number * 10  # Multiply the number by 10 and put the result equal to the 'product' variable"
   ]
  },
  {
   "cell_type": "markdown",
   "id": "6dd0263f",
   "metadata": {},
   "source": [
    "Okay so I tried to run the code and there was no outcome, I'm going to try to fix my mistake"
   ]
  },
  {
   "cell_type": "code",
   "execution_count": null,
   "id": "96e6ba6c",
   "metadata": {},
   "outputs": [],
   "source": []
  }
 ],
 "metadata": {
  "kernelspec": {
   "display_name": "Python 3 (ipykernel)",
   "language": "python",
   "name": "python3"
  },
  "language_info": {
   "codemirror_mode": {
    "name": "ipython",
    "version": 3
   },
   "file_extension": ".py",
   "mimetype": "text/x-python",
   "name": "python",
   "nbconvert_exporter": "python",
   "pygments_lexer": "ipython3",
   "version": "3.10.9"
  }
 },
 "nbformat": 4,
 "nbformat_minor": 5
}
