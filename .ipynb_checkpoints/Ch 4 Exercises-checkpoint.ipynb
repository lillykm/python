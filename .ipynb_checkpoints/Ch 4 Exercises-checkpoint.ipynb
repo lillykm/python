{
 "cells": [
  {
   "cell_type": "markdown",
   "id": "b89d2a40",
   "metadata": {},
   "source": [
    "# Ch. 4 Exercises"
   ]
  },
  {
   "cell_type": "markdown",
   "id": "8a5ce617",
   "metadata": {},
   "source": [
    "## Algorithm Workbench"
   ]
  },
  {
   "cell_type": "markdown",
   "id": "8e6dbdf7",
   "metadata": {},
   "source": [
    "### Number 1"
   ]
  },
  {
   "cell_type": "markdown",
   "id": "c17e621c",
   "metadata": {},
   "source": [
    "This question asks us to write a while loop that lets the user enter a number. The number should be multiplied by 10, and the result assigned to a variable named product."
   ]
  },
  {
   "cell_type": "code",
   "execution_count": null,
   "id": "58c12aa9",
   "metadata": {},
   "outputs": [],
   "source": [
    "product = 0  # set the product value to 0\n"
   ]
  },
  {
   "cell_type": "markdown",
   "id": "e8eee115",
   "metadata": {},
   "source": [
    "First I set the prodcut equal to zero. Once the code is complete I will input a number of my choice"
   ]
  }
 ],
 "metadata": {
  "kernelspec": {
   "display_name": "Python 3 (ipykernel)",
   "language": "python",
   "name": "python3"
  },
  "language_info": {
   "codemirror_mode": {
    "name": "ipython",
    "version": 3
   },
   "file_extension": ".py",
   "mimetype": "text/x-python",
   "name": "python",
   "nbconvert_exporter": "python",
   "pygments_lexer": "ipython3",
   "version": "3.10.9"
  }
 },
 "nbformat": 4,
 "nbformat_minor": 5
}
