{
 "cells": [
  {
   "cell_type": "markdown",
   "id": "eb3fec9e",
   "metadata": {},
   "source": [
    "# Chapter 8 Exercises"
   ]
  },
  {
   "cell_type": "markdown",
   "id": "71f92f43",
   "metadata": {},
   "source": [
    "## Algorithm Workbench"
   ]
  },
  {
   "cell_type": "markdown",
   "id": "32e2f606",
   "metadata": {},
   "source": [
    "### Number 1"
   ]
  },
  {
   "cell_type": "markdown",
   "id": "2e45e564",
   "metadata": {},
   "source": [
    "This question asks us to rewrite rewrite a statement so it only makes one comparison, and does not use the or operator. "
   ]
  },
  {
   "cell_type": "markdown",
   "id": "94a6da41",
   "metadata": {},
   "source": [
    "if choice.upper() == 'Y':"
   ]
  },
  {
   "cell_type": "markdown",
   "id": "7b3815a9",
   "metadata": {},
   "source": [
    "I used the upper method with choice to to change the value to uppercase. Then it will compare the uppercase value of choice with 'Y' and if the converted value of choice is that, it means its true which means choice is equal to 'y' or 'Y'. "
   ]
  },
  {
   "cell_type": "markdown",
   "id": "10a03d43",
   "metadata": {},
   "source": [
    "### Number 2"
   ]
  },
  {
   "cell_type": "markdown",
   "id": "3b8e87f8",
   "metadata": {},
   "source": [
    "This question asks us to write a code that counts the number of spaces in that appear in the string referenced by mystring. "
   ]
  },
  {
   "cell_type": "code",
   "execution_count": 13,
   "id": "29f2a187",
   "metadata": {},
   "outputs": [
    {
     "name": "stdout",
     "output_type": "stream",
     "text": [
      "Enter a string: mystring\n",
      "Number of space characters: 0\n"
     ]
    }
   ],
   "source": [
    "# tell user to enter a string\n",
    "mystring = input(\"Enter a string: \")\n",
    "\n",
    "# set a variable with the count of spaces in the sentence\n",
    "count = 0\n",
    "\n",
    "# Iterate over each character in the string\n",
    "for char in mystring:\n",
    "    # See if the character is a space\n",
    "    if char == ' ':\n",
    "        # Increment the count for space characters\n",
    "        count += 1\n",
    "        \n",
    "# Print amount of spaces\n",
    "print(\"Number of space characters:\", count)"
   ]
  },
  {
   "cell_type": "code",
   "execution_count": null,
   "id": "ab36c635",
   "metadata": {},
   "outputs": [],
   "source": []
  }
 ],
 "metadata": {
  "kernelspec": {
   "display_name": "Python 3 (ipykernel)",
   "language": "python",
   "name": "python3"
  },
  "language_info": {
   "codemirror_mode": {
    "name": "ipython",
    "version": 3
   },
   "file_extension": ".py",
   "mimetype": "text/x-python",
   "name": "python",
   "nbconvert_exporter": "python",
   "pygments_lexer": "ipython3",
   "version": "3.10.9"
  }
 },
 "nbformat": 4,
 "nbformat_minor": 5
}
