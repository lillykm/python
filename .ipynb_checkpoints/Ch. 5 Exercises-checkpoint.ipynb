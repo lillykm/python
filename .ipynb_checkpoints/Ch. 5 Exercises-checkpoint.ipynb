{
 "cells": [
  {
   "cell_type": "markdown",
   "id": "fbfd5c5b",
   "metadata": {},
   "source": [
    "# Ch. 5 Exercises"
   ]
  },
  {
   "cell_type": "markdown",
   "id": "33097aee",
   "metadata": {},
   "source": [
    "## Algorithm Workbench"
   ]
  },
  {
   "cell_type": "markdown",
   "id": "23f421e8",
   "metadata": {},
   "source": [
    "### Number 1"
   ]
  },
  {
   "cell_type": "markdown",
   "id": "6d5c3392",
   "metadata": {},
   "source": [
    "This question asks us to write a fucntion names times_ten "
   ]
  },
  {
   "cell_type": "code",
   "execution_count": 10,
   "id": "2ed09e34",
   "metadata": {},
   "outputs": [
    {
     "name": "stdout",
     "output_type": "stream",
     "text": [
      "30\n",
      "64.0\n"
     ]
    }
   ],
   "source": [
    "def times_ten(number):\n",
    "    product = number * 10\n",
    "    print(product)\n",
    "\n",
    "times_ten(3)  # Multiply 3 by 10\n",
    "times_ten(6.4)  # Multiply 6.4 by 10\n"
   ]
  },
  {
   "cell_type": "markdown",
   "id": "62d8cb2c",
   "metadata": {},
   "source": [
    "### Number 6"
   ]
  },
  {
   "cell_type": "markdown",
   "id": "bb6ba75e",
   "metadata": {},
   "source": [
    "This question asks us to write a statement that generates a random number in the range of 1 through 100 and assigns it to a variable named rand."
   ]
  },
  {
   "cell_type": "code",
   "execution_count": 12,
   "id": "88ef2c5f",
   "metadata": {},
   "outputs": [
    {
     "name": "stdout",
     "output_type": "stream",
     "text": [
      "73\n"
     ]
    }
   ],
   "source": [
    "import random\n",
    "rand = 0 #use a variable outside the range\n",
    "while rand < 1 or rand > 100: # create a while loop\n",
    "    rand = random.randint(1, 100)\n",
    "    print(rand) # print randomly generated number"
   ]
  },
  {
   "cell_type": "markdown",
   "id": "cc2d30cb",
   "metadata": {},
   "source": [
    "## Programming exercises"
   ]
  },
  {
   "cell_type": "markdown",
   "id": "41f1aed7",
   "metadata": {},
   "source": [
    "### Number 1"
   ]
  },
  {
   "cell_type": "markdown",
   "id": "d6682f90",
   "metadata": {},
   "source": [
    "This question asks us to write a program that asks the user to enter a distance in kilometers, then uses a function to convert that distance to miles. "
   ]
  },
  {
   "cell_type": "code",
   "execution_count": 3,
   "id": "920ef7ec",
   "metadata": {},
   "outputs": [
    {
     "name": "stdout",
     "output_type": "stream",
     "text": [
      "Enter distance in kilometers: 20\n",
      "The distance in miles is: 12.427999999999999\n"
     ]
    }
   ],
   "source": [
    "def convert_to_miles(kilometers): # define covert to miles function\n",
    "    miles = kilometers * 0.6214\n",
    "    return miles\n",
    "kilometers = float(input(\"Enter distance in kilometers: \")) # tell user to enter distance in kilometers\n",
    "miles = convert_to_miles(kilometers) # convert kilometers to miles using this function\n",
    "print(f\"The distance in miles is: {miles}\") # print final distance in miles"
   ]
  },
  {
   "cell_type": "markdown",
   "id": "5cd7f7e8",
   "metadata": {},
   "source": [
    "## Number 16"
   ]
  },
  {
   "cell_type": "markdown",
   "id": "d864f66d",
   "metadata": {},
   "source": [
    "This question aks us to write a Boolean function named is_prime which takes an integer as an argument and returns true if the argument is a prime number, or false otherwise. Use the function in a program that prompts the user to enter a number then displays a message indicating whether the number is prime."
   ]
  },
  {
   "cell_type": "code",
   "execution_count": 14,
   "id": "ef5bfcc3",
   "metadata": {},
   "outputs": [
    {
     "name": "stdout",
     "output_type": "stream",
     "text": [
      "insert a number: 68\n",
      "68 is not a prime number.\n"
     ]
    }
   ],
   "source": [
    "def is_prime(number):\n",
    "    if number < 2:  # numbers below two are not prime\n",
    "        return False\n",
    "    for i in range(2, int(number**0.5) + 1):\n",
    "        if number % i == 0:  # If number is divisible by a smaller number it isnt prime\n",
    "            return False\n",
    "    return true\n",
    "\n",
    "user_input = int(input(\"insert a number: \")) # tell user to enter a number\n",
    "if is_prime(user_input): # see if our number is prime or not\n",
    "    print(f\"{user_input} is prime number.\")\n",
    "else:\n",
    "    print(f\"{user_input} is not a prime number.\")"
   ]
  },
  {
   "cell_type": "markdown",
   "id": "a1941148",
   "metadata": {},
   "source": [
    "## Number 17"
   ]
  },
  {
   "cell_type": "markdown",
   "id": "358c52be",
   "metadata": {},
   "source": [
    "This question asks us to write another program that displays all of the prime numbers from 1 to 100. The program should have a loop that calls the is_prime function."
   ]
  },
  {
   "cell_type": "code",
   "execution_count": 16,
   "id": "3b304393",
   "metadata": {},
   "outputs": [
    {
     "name": "stdout",
     "output_type": "stream",
     "text": [
      "2\n",
      "3\n",
      "5\n",
      "7\n",
      "11\n",
      "13\n",
      "17\n",
      "19\n",
      "23\n",
      "29\n",
      "31\n",
      "37\n",
      "41\n",
      "43\n",
      "47\n",
      "53\n",
      "59\n",
      "61\n",
      "67\n",
      "71\n",
      "73\n",
      "79\n",
      "83\n",
      "89\n",
      "97\n"
     ]
    }
   ],
   "source": [
    "def is_prime(number):\n",
    "    if number < 2:  # numberd below 2 are not prime\n",
    "        return False\n",
    "    for i in range(2, int(number**0.5) + 1):\n",
    "        if number % i == 0:  # If number is divisible by a smaller number it isnt prime\n",
    "            return False\n",
    "    return True\n",
    "\n",
    "# create a loop with numbers 1 to 100\n",
    "for num in range(1, 101):\n",
    "    if is_prime(num):\n",
    "        print(num)"
   ]
  },
  {
   "cell_type": "code",
   "execution_count": null,
   "id": "b8211632",
   "metadata": {},
   "outputs": [],
   "source": [
    "def feet_to_inches(feet):"
   ]
  }
 ],
 "metadata": {
  "kernelspec": {
   "display_name": "Python 3 (ipykernel)",
   "language": "python",
   "name": "python3"
  },
  "language_info": {
   "codemirror_mode": {
    "name": "ipython",
    "version": 3
   },
   "file_extension": ".py",
   "mimetype": "text/x-python",
   "name": "python",
   "nbconvert_exporter": "python",
   "pygments_lexer": "ipython3",
   "version": "3.10.9"
  }
 },
 "nbformat": 4,
 "nbformat_minor": 5
}
