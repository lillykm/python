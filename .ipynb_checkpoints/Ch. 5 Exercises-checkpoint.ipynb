{
 "cells": [
  {
   "cell_type": "markdown",
   "id": "fbfd5c5b",
   "metadata": {},
   "source": [
    "# Ch. 5 Exercises"
   ]
  },
  {
   "cell_type": "markdown",
   "id": "33097aee",
   "metadata": {},
   "source": [
    "## Algorithm Workbench"
   ]
  },
  {
   "cell_type": "markdown",
   "id": "23f421e8",
   "metadata": {},
   "source": [
    "### Number 1"
   ]
  },
  {
   "cell_type": "markdown",
   "id": "6d5c3392",
   "metadata": {},
   "source": [
    "This question asks us to write a fucntion names times_ten "
   ]
  },
  {
   "cell_type": "code",
   "execution_count": 10,
   "id": "2ed09e34",
   "metadata": {},
   "outputs": [
    {
     "name": "stdout",
     "output_type": "stream",
     "text": [
      "30\n",
      "64.0\n"
     ]
    }
   ],
   "source": [
    "def times_ten(number):\n",
    "    product = number * 10\n",
    "    print(product)\n",
    "\n",
    "times_ten(3)  # Multiply 3 by 10\n",
    "times_ten(6.4)  # Multiply 6.4 by 10\n"
   ]
  },
  {
   "cell_type": "markdown",
   "id": "62d8cb2c",
   "metadata": {},
   "source": [
    "### Number 6"
   ]
  },
  {
   "cell_type": "markdown",
   "id": "bb6ba75e",
   "metadata": {},
   "source": [
    "This question asks us to write a statement that generates a random number in the range of 1 through 100 and assigns it to a variable named rand."
   ]
  },
  {
   "cell_type": "code",
   "execution_count": 12,
   "id": "88ef2c5f",
   "metadata": {},
   "outputs": [
    {
     "name": "stdout",
     "output_type": "stream",
     "text": [
      "73\n"
     ]
    }
   ],
   "source": [
    "import random\n",
    "rand = 0 #use a variable outside the range\n",
    "while rand < 1 or rand > 100: # create a while loop\n",
    "    rand = random.randint(1, 100)\n",
    "    print(rand) # print randomly generated number"
   ]
  },
  {
   "cell_type": "markdown",
   "id": "cc2d30cb",
   "metadata": {},
   "source": [
    "## Programming exercises"
   ]
  },
  {
   "cell_type": "markdown",
   "id": "41f1aed7",
   "metadata": {},
   "source": [
    "### Number 1"
   ]
  },
  {
   "cell_type": "markdown",
   "id": "d6682f90",
   "metadata": {},
   "source": [
    "This question asks us to write a program that asks the user to enter a distance in kilometers, then uses a function to convert that distance to miles. "
   ]
  },
  {
   "cell_type": "code",
   "execution_count": 1,
   "id": "920ef7ec",
   "metadata": {},
   "outputs": [
    {
     "name": "stdout",
     "output_type": "stream",
     "text": [
      "Enter distance in kilometers: 4\n"
     ]
    },
    {
     "ename": "NameError",
     "evalue": "name 'Convert_to_miles' is not defined",
     "output_type": "error",
     "traceback": [
      "\u001b[0;31m---------------------------------------------------------------------------\u001b[0m",
      "\u001b[0;31mNameError\u001b[0m                                 Traceback (most recent call last)",
      "Cell \u001b[0;32mIn[1], line 5\u001b[0m\n\u001b[1;32m      3\u001b[0m     \u001b[38;5;28;01mreturn\u001b[39;00m miles\n\u001b[1;32m      4\u001b[0m kilometers \u001b[38;5;241m=\u001b[39m \u001b[38;5;28mfloat\u001b[39m(\u001b[38;5;28minput\u001b[39m(\u001b[38;5;124m\"\u001b[39m\u001b[38;5;124mEnter distance in kilometers: \u001b[39m\u001b[38;5;124m\"\u001b[39m))\n\u001b[0;32m----> 5\u001b[0m miles \u001b[38;5;241m=\u001b[39m \u001b[43mConvert_to_miles\u001b[49m(kilometers)\n",
      "\u001b[0;31mNameError\u001b[0m: name 'Convert_to_miles' is not defined"
     ]
    }
   ],
   "source": [
    "def convert_to_miles(kilometers): # define covert to miles function\n",
    "    miles = kilometers * 0.6214\n",
    "    return miles\n",
    "kilometers = float(input(\"Enter distance in kilometers: \"))\n",
    "miles = Convert_to_miles(kilometers)\n",
    "\n"
   ]
  },
  {
   "cell_type": "code",
   "execution_count": null,
   "id": "25f10bdd",
   "metadata": {},
   "outputs": [],
   "source": []
  }
 ],
 "metadata": {
  "kernelspec": {
   "display_name": "Python 3 (ipykernel)",
   "language": "python",
   "name": "python3"
  },
  "language_info": {
   "codemirror_mode": {
    "name": "ipython",
    "version": 3
   },
   "file_extension": ".py",
   "mimetype": "text/x-python",
   "name": "python",
   "nbconvert_exporter": "python",
   "pygments_lexer": "ipython3",
   "version": "3.10.9"
  }
 },
 "nbformat": 4,
 "nbformat_minor": 5
}
