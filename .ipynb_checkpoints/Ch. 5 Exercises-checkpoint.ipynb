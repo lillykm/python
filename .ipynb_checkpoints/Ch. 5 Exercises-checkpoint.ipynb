{
 "cells": [
  {
   "cell_type": "markdown",
   "id": "fbfd5c5b",
   "metadata": {},
   "source": [
    "# Ch. 5 Exercises"
   ]
  },
  {
   "cell_type": "markdown",
   "id": "33097aee",
   "metadata": {},
   "source": [
    "## Algorithm Workbench"
   ]
  },
  {
   "cell_type": "markdown",
   "id": "23f421e8",
   "metadata": {},
   "source": [
    "### Number 1"
   ]
  },
  {
   "cell_type": "markdown",
   "id": "6d5c3392",
   "metadata": {},
   "source": [
    "This question asks us to write a fucntion names times_ten "
   ]
  },
  {
   "cell_type": "code",
   "execution_count": 10,
   "id": "2ed09e34",
   "metadata": {},
   "outputs": [
    {
     "name": "stdout",
     "output_type": "stream",
     "text": [
      "30\n",
      "64.0\n"
     ]
    }
   ],
   "source": [
    "def times_ten(number):\n",
    "    product = number * 10\n",
    "    print(product)\n",
    "\n",
    "times_ten(3)  # Multiply 3 by 10\n",
    "times_ten(6.4)  # Multiply 6.4 by 10\n"
   ]
  },
  {
   "cell_type": "markdown",
   "id": "1aef1d82",
   "metadata": {},
   "source": [
    "### Number 6"
   ]
  },
  {
   "cell_type": "markdown",
   "id": "32f52cb4",
   "metadata": {},
   "source": [
    "This question asks us to write a statement that generates a random number in the range of 1 through 100 and assigns it to a variable named rand."
   ]
  },
  {
   "cell_type": "code",
   "execution_count": 12,
   "id": "1f9238d4",
   "metadata": {},
   "outputs": [
    {
     "name": "stdout",
     "output_type": "stream",
     "text": [
      "73\n"
     ]
    }
   ],
   "source": [
    "import random\n",
    "rand = 0 #use a variable outside the range\n",
    "while rand < 1 or rand > 100: # create a while loop\n",
    "    rand = random.randint(1, 100)\n",
    "    print(rand) # print randomly generated number"
   ]
  },
  {
   "cell_type": "markdown",
   "id": "76342fe5",
   "metadata": {},
   "source": [
    "## Programming exercises"
   ]
  },
  {
   "cell_type": "markdown",
   "id": "2e14e0d5",
   "metadata": {},
   "source": [
    "### Number 1"
   ]
  },
  {
   "cell_type": "markdown",
   "id": "62930c8b",
   "metadata": {},
   "source": [
    "This question asks us to write a program that asks the user to enter a distance in kilometers, then uses a function to convert that distance to miles. "
   ]
  },
  {
   "cell_type": "code",
   "execution_count": 13,
   "id": "97b1037a",
   "metadata": {},
   "outputs": [],
   "source": [
    "def convert_to_miles(kilometers):\n",
    "    miles = kilometers * 0.6214\n",
    "    return miles\n"
   ]
  },
  {
   "cell_type": "code",
   "execution_count": null,
   "id": "414771d2",
   "metadata": {},
   "outputs": [],
   "source": []
  }
 ],
 "metadata": {
  "kernelspec": {
   "display_name": "Python 3 (ipykernel)",
   "language": "python",
   "name": "python3"
  },
  "language_info": {
   "codemirror_mode": {
    "name": "ipython",
    "version": 3
   },
   "file_extension": ".py",
   "mimetype": "text/x-python",
   "name": "python",
   "nbconvert_exporter": "python",
   "pygments_lexer": "ipython3",
   "version": "3.10.9"
  }
 },
 "nbformat": 4,
 "nbformat_minor": 5
}
