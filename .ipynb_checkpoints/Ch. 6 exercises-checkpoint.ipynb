{
 "cells": [
  {
   "cell_type": "markdown",
   "id": "48049d10",
   "metadata": {},
   "source": [
    "# Ch. 6 Exercises"
   ]
  },
  {
   "cell_type": "markdown",
   "id": "1b7d8246",
   "metadata": {},
   "source": [
    "## Algorithm Workbench"
   ]
  },
  {
   "cell_type": "markdown",
   "id": "c637ea6e",
   "metadata": {},
   "source": [
    "### Number 1"
   ]
  },
  {
   "cell_type": "markdown",
   "id": "6292e0f1",
   "metadata": {},
   "source": [
    "This question asks us to write a program that opens an output file with the filename my_name.txt, writes your name to the file, then closes the file"
   ]
  },
  {
   "cell_type": "code",
   "execution_count": 1,
   "id": "e1bb004c",
   "metadata": {},
   "outputs": [
    {
     "ename": "NameError",
     "evalue": "name 'Lilly' is not defined",
     "output_type": "error",
     "traceback": [
      "\u001b[0;31m---------------------------------------------------------------------------\u001b[0m",
      "\u001b[0;31mNameError\u001b[0m                                 Traceback (most recent call last)",
      "Cell \u001b[0;32mIn[1], line 1\u001b[0m\n\u001b[0;32m----> 1\u001b[0m name \u001b[38;5;241m=\u001b[39m \u001b[43mLilly\u001b[49m \n\u001b[1;32m      2\u001b[0m filename \u001b[38;5;241m=\u001b[39m \u001b[38;5;124m\"\u001b[39m\u001b[38;5;124mmy_name.txt\u001b[39m\u001b[38;5;124m\"\u001b[39m\n\u001b[1;32m      4\u001b[0m file \u001b[38;5;241m=\u001b[39m \u001b[38;5;28mopen\u001b[39m(filename, \u001b[38;5;124m\"\u001b[39m\u001b[38;5;124mr\u001b[39m\u001b[38;5;124m\"\u001b[39m)\n",
      "\u001b[0;31mNameError\u001b[0m: name 'Lilly' is not defined"
     ]
    }
   ],
   "source": [
    "name = Lilly \n",
    "filename = \"my_name.txt\"\n",
    "\n",
    "file = open(filename, \"r\")\n",
    "\n",
    "file.write(name)\n"
   ]
  },
  {
   "cell_type": "code",
   "execution_count": null,
   "id": "7f1486d1",
   "metadata": {},
   "outputs": [],
   "source": []
  }
 ],
 "metadata": {
  "kernelspec": {
   "display_name": "Python 3 (ipykernel)",
   "language": "python",
   "name": "python3"
  },
  "language_info": {
   "codemirror_mode": {
    "name": "ipython",
    "version": 3
   },
   "file_extension": ".py",
   "mimetype": "text/x-python",
   "name": "python",
   "nbconvert_exporter": "python",
   "pygments_lexer": "ipython3",
   "version": "3.10.9"
  }
 },
 "nbformat": 4,
 "nbformat_minor": 5
}
