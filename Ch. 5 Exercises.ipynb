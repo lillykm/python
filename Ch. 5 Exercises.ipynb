{
 "cells": [
  {
   "cell_type": "markdown",
   "id": "934b7aba",
   "metadata": {},
   "source": [
    "# Ch. 5 Exercises"
   ]
  },
  {
   "cell_type": "markdown",
   "id": "49a63905",
   "metadata": {},
   "source": [
    "## Algorithm Workbench"
   ]
  },
  {
   "cell_type": "markdown",
   "id": "e73d2838",
   "metadata": {},
   "source": [
    "### Number 1"
   ]
  },
  {
   "cell_type": "markdown",
   "id": "ab92635f",
   "metadata": {},
   "source": [
    "This question asks us to write a fucntion names times_ten "
   ]
  },
  {
   "cell_type": "code",
   "execution_count": null,
   "id": "73c0f3b2",
   "metadata": {},
   "outputs": [],
   "source": [
    "def times_ten(number):"
   ]
  }
 ],
 "metadata": {
  "kernelspec": {
   "display_name": "Python 3 (ipykernel)",
   "language": "python",
   "name": "python3"
  },
  "language_info": {
   "codemirror_mode": {
    "name": "ipython",
    "version": 3
   },
   "file_extension": ".py",
   "mimetype": "text/x-python",
   "name": "python",
   "nbconvert_exporter": "python",
   "pygments_lexer": "ipython3",
   "version": "3.10.9"
  }
 },
 "nbformat": 4,
 "nbformat_minor": 5
}
