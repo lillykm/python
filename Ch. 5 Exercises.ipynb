{
 "cells": [
  {
   "cell_type": "markdown",
   "id": "fbfd5c5b",
   "metadata": {},
   "source": [
    "# Ch. 5 Exercises"
   ]
  },
  {
   "cell_type": "markdown",
   "id": "33097aee",
   "metadata": {},
   "source": [
    "## Algorithm Workbench"
   ]
  },
  {
   "cell_type": "markdown",
   "id": "23f421e8",
   "metadata": {},
   "source": [
    "### Number 1"
   ]
  },
  {
   "cell_type": "markdown",
   "id": "6d5c3392",
   "metadata": {},
   "source": [
    "This question asks us to write a fucntion names times_ten "
   ]
  },
  {
   "cell_type": "code",
   "execution_count": 10,
   "id": "2ed09e34",
   "metadata": {},
   "outputs": [
    {
     "name": "stdout",
     "output_type": "stream",
     "text": [
      "30\n",
      "64.0\n"
     ]
    }
   ],
   "source": [
    "def times_ten(number):\n",
    "    product = number * 10\n",
    "    print(product)\n",
    "\n",
    "times_ten(3)  # Multiply 3 by 10\n",
    "times_ten(6.4)  # Multiply 6.4 by 10\n"
   ]
  },
  {
   "cell_type": "markdown",
   "id": "591450b3",
   "metadata": {},
   "source": [
    "### Number 6"
   ]
  },
  {
   "cell_type": "markdown",
   "id": "00c000d2",
   "metadata": {},
   "source": [
    "This question asks us to write a statement that generates a random number in the range of 1 through 100 and assigns it to a variable named rand."
   ]
  },
  {
   "cell_type": "code",
   "execution_count": 12,
   "id": "b9d5af15",
   "metadata": {},
   "outputs": [
    {
     "name": "stdout",
     "output_type": "stream",
     "text": [
      "73\n"
     ]
    }
   ],
   "source": [
    "import random\n",
    "rand = 0 #use a variable outside the range\n",
    "while rand < 1 or rand > 100: # create a while loop\n",
    "    rand = random.randint(1, 100)\n",
    "    print(rand) # print randomly generated number"
   ]
  },
  {
   "cell_type": "markdown",
   "id": "df04351a",
   "metadata": {},
   "source": [
    "## Programming exercises"
   ]
  },
  {
   "cell_type": "markdown",
   "id": "77aca6b6",
   "metadata": {},
   "source": [
    "### Number 1"
   ]
  },
  {
   "cell_type": "markdown",
   "id": "b76681b9",
   "metadata": {},
   "source": [
    "This question asks us to write a program that asks the user to enter a distance in kilometers, then uses a function to convert that distance to miles. "
   ]
  },
  {
   "cell_type": "code",
   "execution_count": null,
   "id": "4cca53ea",
   "metadata": {},
   "outputs": [],
   "source": [
    "def convert_to_miles(kilometers): # define covert to miles function\n",
    "    miles = kilometers * 0.6214\n",
    "    return miles\n",
    "kilometers = float(input(\"Enter distance in kilometers: \"))\n"
   ]
  }
 ],
 "metadata": {
  "kernelspec": {
   "display_name": "Python 3 (ipykernel)",
   "language": "python",
   "name": "python3"
  },
  "language_info": {
   "codemirror_mode": {
    "name": "ipython",
    "version": 3
   },
   "file_extension": ".py",
   "mimetype": "text/x-python",
   "name": "python",
   "nbconvert_exporter": "python",
   "pygments_lexer": "ipython3",
   "version": "3.10.9"
  }
 },
 "nbformat": 4,
 "nbformat_minor": 5
}
