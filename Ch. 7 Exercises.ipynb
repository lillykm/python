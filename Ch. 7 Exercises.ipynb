{
 "cells": [
  {
   "cell_type": "markdown",
   "id": "521f0eff",
   "metadata": {},
   "source": [
    "# Chapter 7 Exercises"
   ]
  },
  {
   "cell_type": "markdown",
   "id": "8fb95e6f",
   "metadata": {},
   "source": [
    "## Algorithm Workbench"
   ]
  },
  {
   "cell_type": "markdown",
   "id": "702decab",
   "metadata": {},
   "source": [
    "### Number 1"
   ]
  },
  {
   "cell_type": "markdown",
   "id": "d34cb744",
   "metadata": {},
   "source": [
    "This question asks us to write a statement that creates a list with the following strings: 'Einstein', 'Newton', 'Copernicus', and 'Kepler'.  "
   ]
  },
  {
   "cell_type": "code",
   "execution_count": 4,
   "id": "c4dd9981",
   "metadata": {},
   "outputs": [
    {
     "name": "stdout",
     "output_type": "stream",
     "text": [
      "['Einstein', 'Newton', 'Copernicus', 'Kepler']\n"
     ]
    }
   ],
   "source": [
    "# Assign the variable scientists with a list of strings\n",
    "scientists = ['Einstein', 'Newton', 'Copernicus', 'Kepler'] \n",
    "\n",
    "# ask user to print the variable scientists\n",
    "print(scientists)"
   ]
  },
  {
   "cell_type": "markdown",
   "id": "b2116419",
   "metadata": {},
   "source": [
    "since this code has minimal steps I'm going to explain what I did in a markdown. First I defined the variable scientists with a list of strings. I used [] to create the list. I separated each word by commas in the brackets. Each name inside the list is a string. I made the string using parenthesis and single quotes. Now the variable scientists is associated with the list that I created."
   ]
  },
  {
   "cell_type": "markdown",
   "id": "983588cf",
   "metadata": {},
   "source": [
    "### Number 14"
   ]
  },
  {
   "cell_type": "markdown",
   "id": "712535f0",
   "metadata": {},
   "source": [
    "This question asks us to say what the following code will print \n",
    "list1 = [40, 50, 60]\n",
    "list2 = [10, 20, 30]\n",
    "list3 = list1 + list2\n",
    "print(list3)\n"
   ]
  },
  {
   "cell_type": "code",
   "execution_count": 5,
   "id": "0ad4b9eb",
   "metadata": {},
   "outputs": [
    {
     "name": "stdout",
     "output_type": "stream",
     "text": [
      "[40, 50, 60, 10, 20, 30]\n"
     ]
    }
   ],
   "source": [
    "list1 = [40, 50, 60]\n",
    "list2 = [10, 20, 30]\n",
    "list3 = list1 + list2\n",
    "print(list3)"
   ]
  },
  {
   "cell_type": "markdown",
   "id": "8c6e8911",
   "metadata": {},
   "source": [
    "I can just insert the code into here and get the answer but I will explain how I knew what the result would be. The + sign means that it combines the elements of the lists, lists 1 and 2. This is using concatenation which the book taught me. List three using the + sign to combine list one and two and the print functiona asks user to print list3 which is those combined. That is why the result is the numbers in order from both lists, starting with list1. "
   ]
  },
  {
   "cell_type": "markdown",
   "id": "272af546",
   "metadata": {},
   "source": [
    "## Programming Exercises"
   ]
  },
  {
   "cell_type": "markdown",
   "id": "ae817acd",
   "metadata": {},
   "source": [
    "### Number 1"
   ]
  },
  {
   "cell_type": "markdown",
   "id": "db310c3c",
   "metadata": {},
   "source": [
    "This question asks us to design a program that asks the user to enter a store’s sales for each day of the week. The amounts should be stored in a list. Use a loop to calculate the total sales for the week and display the result."
   ]
  },
  {
   "cell_type": "code",
   "execution_count": null,
   "id": "e9c58129",
   "metadata": {},
   "outputs": [],
   "source": [
    "# Create empty list that contains the sales amounts\n",
    "sales = []\n",
    "\n",
    "# tell user to enter sales for every day of the week\n",
    "for day in ['Monday', 'Tuesday', 'Wednesday', 'Thursday', 'Friday', 'Saturday', 'Sunday']:\n",
    "    amount = float(input(f\"Enter sales for {day}: \"))\n",
    "    sales.append(amount)\n",
    "    \n",
    "# use a loop to calculate the total sales for the week\n",
    "total_sales = 0\n",
    "for amount in sales:\n",
    "    total_sales += amount\n",
    "\n",
    "    \n",
    "# Show total sales for week\n",
    "print(f\"Total sales for the week: {total_sales}\")"
   ]
  },
  {
   "cell_type": "code",
   "execution_count": null,
   "id": "baccd143",
   "metadata": {},
   "outputs": [],
   "source": []
  }
 ],
 "metadata": {
  "kernelspec": {
   "display_name": "Python 3 (ipykernel)",
   "language": "python",
   "name": "python3"
  },
  "language_info": {
   "codemirror_mode": {
    "name": "ipython",
    "version": 3
   },
   "file_extension": ".py",
   "mimetype": "text/x-python",
   "name": "python",
   "nbconvert_exporter": "python",
   "pygments_lexer": "ipython3",
   "version": "3.10.9"
  }
 },
 "nbformat": 4,
 "nbformat_minor": 5
}
