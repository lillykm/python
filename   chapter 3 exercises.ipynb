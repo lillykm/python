{
 "cells": [
  {
   "cell_type": "markdown",
   "id": "a6200d1b",
   "metadata": {},
   "source": [
    "# Ch. 3 exercises"
   ]
  },
  {
   "cell_type": "markdown",
   "id": "78aef1e8",
   "metadata": {},
   "source": [
    "I Just wanted to include this comment in here. My plan was to use Snagit for my iteration because I couldn't figure out how to commit my work to gothub, but I just figured out how to do it and rather than paying for snagit id rather just use the github commits. I'm going to include markdown comments for this assignment to explain what I did but for future assignments I will include all my steps as commits on github. "
   ]
  },
  {
   "cell_type": "markdown",
   "id": "f1406037",
   "metadata": {},
   "source": [
    "## Algorithm Workbench"
   ]
  },
  {
   "cell_type": "markdown",
   "id": "17958c7e",
   "metadata": {},
   "source": [
    "### Question 4"
   ]
  },
  {
   "cell_type": "markdown",
   "id": "ff27386c",
   "metadata": {},
   "source": [
    "We are asked to rewrite this code below using proper indentation"
   ]
  },
  {
   "cell_type": "markdown",
   "id": "a1e0cc96",
   "metadata": {},
   "source": [
    "if score >= A_score:\n",
    "\n",
    "    print('Your grade is A.')\n",
    "    \n",
    "else:\n",
    "\n",
    "    if score >= B_score:\n",
    "    \n",
    "        print('Your grade is B.')\n",
    "        \n",
    "    else:\n",
    "    \n",
    "        if score >= C_score:\n",
    "        \n",
    "            print('Your grade is C.')\n",
    "            \n",
    "        else:\n",
    "        \n",
    "            if score >= D_score:\n",
    "            \n",
    "                print('Your grade is D.')\n",
    "                \n",
    "            else:\n",
    "            \n",
    "                print('Your grade is F.')\n"
   ]
  },
  {
   "cell_type": "markdown",
   "id": "619be046",
   "metadata": {},
   "source": [
    "I had to space out all the lines because if I don't, when I run the cells the format looks incorrect. But for this problem I basically just read examples from chapter 3 to understand how the indents work for these types of codes. "
   ]
  },
  {
   "cell_type": "markdown",
   "id": "7635405b",
   "metadata": {},
   "source": [
    "### Question 5"
   ]
  },
  {
   "cell_type": "markdown",
   "id": "b0031991",
   "metadata": {},
   "source": [
    "We are asked to write nested decision structures that perform if the amount1 is greater than 10 and amount2 is less than 100, then to display the greater amout out of the two"
   ]
  },
  {
   "cell_type": "code",
   "execution_count": 19,
   "id": "e7306702",
   "metadata": {},
   "outputs": [
    {
     "name": "stdout",
     "output_type": "stream",
     "text": [
      "Enter value for amount1: 11\n",
      "Enter value for amount2: 32\n",
      "32\n"
     ]
    }
   ],
   "source": [
    "amount1 = int(input(\"Enter value for amount1: \")) #tell user to input number for amount 1\n",
    "amount2 = int(input(\"Enter value for amount2: \")) #tell user to input number for amount 2\n",
    "\n",
    "if amount1 > 10 and amount2 < 100:     \n",
    "    if amount1 > amount2:\n",
    "        print(amount1)       #print amount 1 if > than amount 2\n",
    "    else:\n",
    "        print(amount2)       #print amount 2 if > or = to amount 1\n",
    "else:\n",
    "        print(\"The conditions are not met.\")  #print this message if conditions are not met"
   ]
  },
  {
   "cell_type": "markdown",
   "id": "9c1247e1",
   "metadata": {},
   "source": [
    " I used int because 11 and 32 are both whole numbers. I wrote an and statement because thats what the question asks us to do. I picked a number that was greater than 10 (11) and a number that was less than 100 (32.) The answer is 32 because 32 is greater than 11. Amount 2 is greater than amount one in this situation. I used nested statements to include amount 1 and 2. For the final else statement I included an option if the conditions arent met, meaning the numbers arent greater than ten or less than 100. "
   ]
  },
  {
   "cell_type": "markdown",
   "id": "7a03b77a",
   "metadata": {},
   "source": [
    "## Programming Exercises"
   ]
  },
  {
   "cell_type": "markdown",
   "id": "8d69876b",
   "metadata": {},
   "source": [
    "### Question 1"
   ]
  },
  {
   "cell_type": "markdown",
   "id": "4a82a87b",
   "metadata": {},
   "source": [
    "We are asked to write a program within the number range of 1 to 7. Then display the corresponding day of the week in order. "
   ]
  },
  {
   "cell_type": "code",
   "execution_count": 21,
   "id": "e4123268",
   "metadata": {},
   "outputs": [
    {
     "name": "stdout",
     "output_type": "stream",
     "text": [
      "Enter a number between 1 and 7: 4\n",
      "Error: Enter a number between 1 and 7.\n"
     ]
    }
   ],
   "source": [
    "# tell user to enter a number\n",
    "number =(input(\"Enter a number between 1 and 7: \"))\n",
    "\n",
    "# check value of # and print corresponding day of week\n",
    "if number == 1:\n",
    "    print(\"Monday\")     #if the number is 1, print \"Monday\"\n",
    "elif number == 2:\n",
    "    print(\"Tuesday\")    #if the number is 2, print \"Tuesday\" ... continue for rest of the days below\n",
    "elif number == 3:\n",
    "    print(\"Wednesday\")\n",
    "elif number == 4:\n",
    "    print(\"Thursday\")\n",
    "elif number == 5:\n",
    "    print(\"Friday\")\n",
    "elif number == 6:\n",
    "    print(\"Saturday\")\n",
    "elif number == 7:\n",
    "    print(\"Sunday\")\n",
    "else:\n",
    "    print(\"Error: Enter a number between 1 and 7.\")   #if the number is out of range, display error messge\n"
   ]
  },
  {
   "cell_type": "markdown",
   "id": "8b0ed9a9",
   "metadata": {},
   "source": [
    "I tried to run the code and am running into an error. I'm going to reread and try to fix whats causing the problem"
   ]
  },
  {
   "cell_type": "code",
   "execution_count": 26,
   "id": "9c83e5b9",
   "metadata": {},
   "outputs": [
    {
     "name": "stdout",
     "output_type": "stream",
     "text": [
      "Enter a number between 1 and 7: 4\n",
      "Thursday\n"
     ]
    }
   ],
   "source": [
    "#tell user to enter a number\n",
    "number =int(input(\"Enter a number between 1 and 7: \"))\n",
    "\n",
    "# check value of # and print corresponding day of week\n",
    "if number == 1:\n",
    "    print(\"Monday\")     #if the number is 1, print \"Monday\"\n",
    "elif number == 2:\n",
    "    print(\"Tuesday\")    #if the number is 2, print \"Tuesday\" ... continue for rest of the days below\n",
    "elif number == 3:\n",
    "    print(\"Wednesday\")\n",
    "elif number == 4:\n",
    "    print(\"Thursday\")\n",
    "elif number == 5:\n",
    "    print(\"Friday\")\n",
    "elif number == 6:\n",
    "    print(\"Saturday\")\n",
    "elif number == 7:\n",
    "    print(\"Sunday\")\n",
    "else:\n",
    "    print(\"Error: Enter a number between 1 and 7.\")   #if the number is out of range, display error messge"
   ]
  },
  {
   "cell_type": "markdown",
   "id": "64792013",
   "metadata": {},
   "source": [
    "After some rereading in the chapter, I realized I forgot to inclue int before my input since I am using whole numbers. Now the code runs smoothly and I used the number 4 and it correctly corresponded with Thursday. For this code I used an if-elif-else statement which is used for codes like this where the conditions can be true or false rather than all true like the and statement. If the conditions are true, as they are with the number I used, the code will run. I used elif since there are multiple expressions after the if statement and before the else statement. The else statement in this code is used if the number is out of our range which is 1-7."
   ]
  },
  {
   "cell_type": "code",
   "execution_count": 1,
   "id": "3ea7101c",
   "metadata": {},
   "outputs": [
    {
     "name": "stdout",
     "output_type": "stream",
     "text": [
      "Enter a number between 1 and 7: 8\n",
      "Error: Enter a number between 1 and 7.\n"
     ]
    }
   ],
   "source": [
    "# tell user to enter a number\n",
    "number = int(input(\"Enter a number between 1 and 7: \"))\n",
    "\n",
    "# check value of # and print corresponding day of week\n",
    "if number == 1:\n",
    "    print(\"Monday\")     #if the number is 1, print \"Monday\"\n",
    "elif number == 2:\n",
    "    print(\"Tuesday\")    #if the number is 2, print \"Tuesday\" ... continue for rest of the days below\n",
    "elif number == 3:\n",
    "    print(\"Wednesday\")\n",
    "elif number == 4:\n",
    "    print(\"Thursday\")\n",
    "elif number == 5:\n",
    "    print(\"Friday\")\n",
    "elif number == 6:\n",
    "    print(\"Saturday\")\n",
    "elif number == 7:\n",
    "    print(\"Sunday\")\n",
    "else:\n",
    "    print(\"Error: Enter a number between 1 and 7.\")   #if the number is out of range, display error messge"
   ]
  },
  {
   "cell_type": "markdown",
   "id": "dee81c35",
   "metadata": {},
   "source": [
    "I ran the code once using a number that is out of range, and it correctly displayed the message for the else statement. This is an example of the code being false with the if-elif-else statement."
   ]
  },
  {
   "cell_type": "markdown",
   "id": "8a9c9a04",
   "metadata": {},
   "source": [
    "### Question 5"
   ]
  },
  {
   "cell_type": "markdown",
   "id": "29c92fb4",
   "metadata": {},
   "source": [
    "The questions asks us to Write a program that asks the user to enter an object’s mass, then calculates its weight. If the object weighs more than 500 newtons, display a message indicating that it is too heavy. If the object weighs less than 100 newtons, display a message indicating that it is too light."
   ]
  },
  {
   "cell_type": "code",
   "execution_count": 1,
   "id": "4fd6fff4",
   "metadata": {},
   "outputs": [
    {
     "name": "stdout",
     "output_type": "stream",
     "text": [
      "Enter the mass of the object in kilograms: 2.5\n",
      "object too light.\n"
     ]
    }
   ],
   "source": [
    "mass = float(input(\"Enter the mass of the object in kilograms: \"))  #tell user to put object's mass\n",
    "\n",
    "# Calculate weight using: weight = mass * g\n",
    "weight = mass * 9.8  \n",
    "\n",
    "if weight > 500:\n",
    "    print(\"object too heavy.\")  # Display this message if the weight is higher than 500 newtons\n",
    "elif weight < 100:\n",
    "    print(\"object too light.\")  # Display this message if the weight is less than 100 newtons\n",
    "else: print(weight)"
   ]
  },
  {
   "cell_type": "markdown",
   "id": "d5d2c81f",
   "metadata": {},
   "source": [
    "I used float this time instead of int because my number is a decimal. "
   ]
  },
  {
   "cell_type": "code",
   "execution_count": 2,
   "id": "73e6b1f2",
   "metadata": {},
   "outputs": [
    {
     "name": "stdout",
     "output_type": "stream",
     "text": [
      "Enter the mass of the object in kilograms: 143\n",
      "object too heavy.\n"
     ]
    }
   ],
   "source": [
    "mass = float(input(\"Enter the mass of the object in kilograms: \"))  #tell user to put object's mass\n",
    "\n",
    "# Calculate weight using: weight = mass * g\n",
    "weight = mass * 9.8  \n",
    "\n",
    "if weight > 500:\n",
    "    print(\"object too heavy.\")  # Display this message if the weight is higher than 500 newtons\n",
    "elif weight < 100:\n",
    "    print(\"object too light.\")  # Display this message if the weight is less than 100 newtons\n",
    "else: print(weight)"
   ]
  },
  {
   "cell_type": "markdown",
   "id": "0a7e5297",
   "metadata": {},
   "source": [
    "I tried again with a different number so that my answer could be different. "
   ]
  },
  {
   "cell_type": "markdown",
   "id": "140b50af",
   "metadata": {},
   "source": [
    "### Question 15"
   ]
  },
  {
   "cell_type": "markdown",
   "id": "242105bf",
   "metadata": {},
   "source": [
    "This question asks us to Write a program that asks the user to enter a year. The program should then display the number of days in February that year. "
   ]
  },
  {
   "cell_type": "code",
   "execution_count": 3,
   "id": "0065ed75",
   "metadata": {},
   "outputs": [
    {
     "name": "stdout",
     "output_type": "stream",
     "text": [
      "Enter a year: 2018\n",
      "In 2018 February has 28 days.\n"
     ]
    }
   ],
   "source": [
    "year = int(input(\"Enter a year: \"))  # tell user to enter a year\n",
    "\n",
    "# Check if year is divisible by 100\n",
    "if year % 100 == 0:\n",
    "    # If divisible by 100, check if it is divisible by 400 as well\n",
    "    if year % 400 == 0:\n",
    "        days_in_february = 29  # Leap year (meaning February has 29 days)\n",
    "    else:\n",
    "        days_in_february = 28  # Not a leap year (meaning February has 28 days)\n",
    "# If year is not divisible by 100, check if its divisible by 4\n",
    "elif year % 4 == 0:\n",
    "    days_in_february = 29  \n",
    "else:\n",
    "    days_in_february = 28  \n",
    "\n",
    "# Print result \n",
    "print(\"In\", year, \"February has\", days_in_february, \"days.\")\n"
   ]
  },
  {
   "cell_type": "markdown",
   "id": "31a8ff13",
   "metadata": {},
   "source": [
    "For this code, I had to start with an int because whole numbers are being used. We were given a formula for this problem which was to see if the year we use is divisible by 100. It also had to be divisible by 400 in order to be considered a leap year with 29 days. I used the percent sign since thst means divisible by in python. The next thing I included was an elif statement and if it was divisible by 100, and 4 then again it is a leap year, if not its not a leap year and only has 28 days. I then used the print function to print the result of how many days that year has in February."
   ]
  },
  {
   "cell_type": "markdown",
   "id": "ccc7e163",
   "metadata": {},
   "source": [
    "### Question 16"
   ]
  },
  {
   "cell_type": "markdown",
   "id": "e6fab005",
   "metadata": {},
   "source": [
    "This question asks us to use the flowchart to create a program that leads a person through the steps of fixing a bad Wi-Fi connection. "
   ]
  },
  {
   "cell_type": "code",
   "execution_count": 3,
   "id": "4fd58aaf",
   "metadata": {},
   "outputs": [
    {
     "ename": "IndentationError",
     "evalue": "unindent does not match any outer indentation level (<tokenize>, line 16)",
     "output_type": "error",
     "traceback": [
      "\u001b[0;36m  File \u001b[0;32m<tokenize>:16\u001b[0;36m\u001b[0m\n\u001b[0;31m    else:\u001b[0m\n\u001b[0m    ^\u001b[0m\n\u001b[0;31mIndentationError\u001b[0m\u001b[0;31m:\u001b[0m unindent does not match any outer indentation level\n"
     ]
    }
   ],
   "source": [
    "# tell user to reboot the computer and try and connect\n",
    "print(\"Reboot computer and try to connect.\")\n",
    "answer = input(\"Did that fix the problem? (yes/no): \")\n",
    "\n",
    "# Check if problem is solved\n",
    "if answer == \"yes\":\n",
    "    print(\"Problem solved.\")\n",
    "else:\n",
    "    # Tell user to reboot the router and try and connect\n",
    "    print(\"Reboot the router and try to connect.\")\n",
    "    answer = input(\"Did that fix the problem? (yes/no): \")\n",
    "\n",
    "    # Check if problem is solved\n",
    "if answer == \"yes\":\n",
    "        print(\"Problem solved.\")\n",
    "    else:\n",
    "        # Tell the user to check the cables between the router and modem\n",
    "        print(\"Make sure the cables between the router and modem are plugged in firmly.\")\n",
    "        answer = input(\"Did that fix the problem? (yes/no): \")\n",
    "\n",
    "        # Check if the problem is solved\n",
    "    if answer == \"yes\":\n",
    "            print(\"Problem solved.\")\n",
    "        else:\n",
    "            # Tell the user to move the router to a new location\n",
    "            print(\"Move the router to a new location.\")\n",
    "            answer = input(\"Did that fix the problem? (yes/no): \")\n",
    "\n",
    "            # Check if the problem is solved\n",
    "            if answer == \"yes\":\n",
    "                print(\"Problem solved.\")\n",
    "            else:\n",
    "                # Tell the user to get a new router\n",
    "                print(\"Get a new router.\")\n",
    "                print(\"Problem solved.\")\n"
   ]
  },
  {
   "cell_type": "markdown",
   "id": "56e28496",
   "metadata": {},
   "source": [
    "I tried to run this code and got an error and it tells it its because of an identation problem. I'm going to read through the chapter and look at some examples to see where I messed up my indentation. "
   ]
  },
  {
   "cell_type": "code",
   "execution_count": 4,
   "id": "924d04e3",
   "metadata": {},
   "outputs": [
    {
     "name": "stdout",
     "output_type": "stream",
     "text": [
      "Reboot computer and try to connect.\n",
      "Did that fix the problem? (yes/no): yes\n",
      "Problem solved.\n"
     ]
    }
   ],
   "source": [
    "# tell user to reboot the computer and try and connect\n",
    "print(\"Reboot computer and try to connect.\")\n",
    "answer = input(\"Did that fix the problem? (yes/no): \")\n",
    "\n",
    "# Check if problem is solved\n",
    "if answer == \"yes\":\n",
    "    print(\"Problem solved.\")\n",
    "else:\n",
    "    # Tell user to reboot the router and try and connect\n",
    "    print(\"Reboot the router and try to connect.\")\n",
    "    answer = input(\"Did that fix the problem? (yes/no): \")\n",
    "\n",
    "    # Check if problem is solved\n",
    "    if answer == \"yes\":\n",
    "        print(\"Problem solved.\")\n",
    "    else:\n",
    "        # Tell the user to check the cables between the router and modem\n",
    "        print(\"Make sure the cables between the router and modem are plugged in firmly.\")\n",
    "        answer = input(\"Did that fix the problem? (yes/no): \")\n",
    "\n",
    "        # Check if the problem is solved\n",
    "        if answer == \"yes\":\n",
    "            print(\"Problem solved.\")\n",
    "        else:\n",
    "            # Tell the user to move the router to a new location\n",
    "            print(\"Move the router to a new location.\")\n",
    "            answer = input(\"Did that fix the problem? (yes/no): \")\n",
    "\n",
    "            # Check if the problem is solved\n",
    "            if answer == \"yes\":\n",
    "                print(\"Problem solved.\")\n",
    "            else:\n",
    "                # Tell the user to get a new router\n",
    "                print(\"Get a new router.\")\n",
    "                print(\"Problem solved.\")"
   ]
  },
  {
   "cell_type": "markdown",
   "id": "ffe84783",
   "metadata": {},
   "source": [
    "after some fixes on the indents, my code works!"
   ]
  }
 ],
 "metadata": {
  "kernelspec": {
   "display_name": "Python 3 (ipykernel)",
   "language": "python",
   "name": "python3"
  },
  "language_info": {
   "codemirror_mode": {
    "name": "ipython",
    "version": 3
   },
   "file_extension": ".py",
   "mimetype": "text/x-python",
   "name": "python",
   "nbconvert_exporter": "python",
   "pygments_lexer": "ipython3",
   "version": "3.10.9"
  }
 },
 "nbformat": 4,
 "nbformat_minor": 5
}
